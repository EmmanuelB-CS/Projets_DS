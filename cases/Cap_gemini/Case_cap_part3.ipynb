{
 "cells": [
  {
   "cell_type": "markdown",
   "metadata": {},
   "source": [
    "# CASE CAP GEMINI INVENT"
   ]
  },
  {
   "cell_type": "markdown",
   "metadata": {},
   "source": [
    "**Objectifs de la partie 3**\n",
    "\n",
    "L'objectif ici est simple: créer une pipeline de modèles de régression à entraîner puis tester leurs performances sur nos trois datasets que l'on nommera simplement rough_ml, by_hand et by_reg qui on le rappelle ont été obtenus sans sélection des variables, par sélection à la main et par elastic net."
   ]
  },
  {
   "cell_type": "code",
   "execution_count": 2,
   "metadata": {},
   "outputs": [],
   "source": [
    "import pandas as pd\n",
    "import numpy as np\n",
    "\n",
    "from sklearn.metrics import explained_variance_score, r2_score, mean_absolute_error\n",
    "\n",
    "from sklearn.model_selection import train_test_split, GridSearchCV\n",
    "from sklearn.pipeline import Pipeline\n",
    "from sklearn.base import clone\n",
    "from sklearn.linear_model import LinearRegression, ElasticNet\n",
    "from sklearn.ensemble import RandomForestRegressor\n",
    "from xgboost import XGBRegressor\n",
    "from catboost import CatBoostRegressor\n"
   ]
  },
  {
   "cell_type": "code",
   "execution_count": 74,
   "metadata": {},
   "outputs": [],
   "source": [
    "rough_ml = pd.read_csv('df_ml/df_for_ml.csv')\n",
    "by_hand = pd.read_csv('df_ml/ml_selected_byhand.csv')\n",
    "by_reg = pd.read_csv('df_ml/ml_selected_byreg.csv')\n",
    "unnorm_target = pd.read_csv('df_ml/unnormalized_target.csv')\n",
    "\n",
    "df_dict = {'rough_ml':rough_ml, 'by_hand':by_hand, 'by_reg':by_reg}"
   ]
  },
  {
   "cell_type": "markdown",
   "metadata": {},
   "source": [
    "## Description des modèles:\n",
    "---\n",
    "\n",
    "### Modèles de Régression Implementés 📈\n",
    "\n",
    "#### Régression Linéaire Multiple 🧮\n",
    "- **Description**: La régression linéaire multiple est un modèle statistique qui cherche à prédire une variable dépendante à partir de plusieurs variables indépendantes, en supposant une relation linéaire entre elles.\n",
    "- **Utilisation**: Elle est idéale pour mettre en lumière des relations simples et pour servir de benchmark pour des \n",
    "modèles plus sophistiqués\n",
    "\n",
    "#### Elastic Net 🕸️\n",
    "- **Description**: Elastic Net est une méthode de régression régularisée qui combine les pénalités L1 et L2 des régularisations Lasso et Ridge. \n",
    "- **Utilisation**: Très utile lorsque plusieurs caractéristiques sont corrélées entre elles. Elastic Net peut aider à réduire le surapprentissage en introduisant ces pénalités.\n",
    "- **Avantages**: Permet une sélection de caractéristiques automatique et la régularisation. Performant lorsque le nombre de prédicteurs est très grand.\n",
    "- **Inconvénients**: Difficile de choisir ses paramètres.\n",
    "\n",
    "#### Random Forest 🌳\n",
    "- **Description**: Un modèle qui opère en construisant un grand nombre d'arbres de décision au moment de l'entraînement et en produisant la moyenne des prédictions de ces arbres pour la prédiction finale.\n",
    "- **Utilisation**: Excellent pour capturer des relations non linéaires sans nécessiter une transformation manuelle des caractéristiques.\n",
    "- **Avantages**: Réduit le risque de surapprentissage. Importances des caractéristiques facilement extractibles ce qui améliore l'\"explicabilité\" du modèle.\n",
    "- **Inconvénients**: Moins interprétable qu'un modèle de régression linéaire.\n",
    "\n",
    "#### XGBoost 🚀\n",
    "- **Description**: XGBoost (Extreme Gradient Boosting) est un algorithme d'apprentissage ensembliste qui construit de manière itérative des arbres de décision de manière à minimiser une fonction de perte.\n",
    "- **Utilisation**: Idéal pour des performances élevées et la rapidité sur des tâches de prédiction.\n",
    "- **Avantages**: Très performant, capable de gérer des données de grande dimension et des relations non linéaires.\n",
    "- **Inconvénients**: Peut être sujet au surapprentissage si les hyperparamètres ne sont pas bien choisis. Moins intuitif à comprendre et interpréter.\n",
    "\n",
    "#### CatBoost 🐱🚀\n",
    "- **Description**: CatBoost est un algorithme de boosting qui utilise des arbres de décision et est optimisé pour traiter efficacement les variables catégorielles comme l'état d'un bien immobilier etc...\n",
    "- **Utilisation**: Particulièrement efficace pour les ensembles de données avec de nombreuses caractéristiques catégorielles.\n",
    "- **Avantages**: Offre une bonne performance avec peu de paramétrage. Gère bien les données catégorielles sans prétraitement.\n",
    "- **Inconvénients**: Encore et toujours un risque non négligeable de surapprentissage, comme pour tous les algorithmes de boosting.\n",
    "\n",
    "---"
   ]
  },
  {
   "cell_type": "markdown",
   "metadata": {},
   "source": [
    "## Construction de la Pipeline"
   ]
  },
  {
   "cell_type": "code",
   "execution_count": 75,
   "metadata": {},
   "outputs": [
    {
     "data": {
      "text/plain": [
       "(211288.86529576036, 133993.18394892054)"
      ]
     },
     "execution_count": 75,
     "metadata": {},
     "output_type": "execute_result"
    }
   ],
   "source": [
    "y_mean = unnorm_target['valeur_fonciere'].mean(axis=0) \n",
    "y_std = unnorm_target['valeur_fonciere'].std(axis=0)\n",
    "y_mean, y_std"
   ]
  },
  {
   "cell_type": "code",
   "execution_count": 76,
   "metadata": {},
   "outputs": [],
   "source": [
    "\n",
    "models_params = {\n",
    "    'Linear Regression': {\n",
    "        'model': LinearRegression(),\n",
    "        'params': {}\n",
    "    },\n",
    "    'Elastic Net': {\n",
    "        'model': ElasticNet(),\n",
    "        'params': {\n",
    "            'alpha': [0.1, 1, 10],\n",
    "            'l1_ratio': [0.1, 0.5, 0.9]\n",
    "        }\n",
    "    },\n",
    "    'Random Forest': {\n",
    "        'model': RandomForestRegressor(),\n",
    "        'params': {\n",
    "            'n_estimators': [10, 50, 100, 200],\n",
    "            'max_depth': [None, 2, 3, 4]\n",
    "        }\n",
    "    },\n",
    "    'XGBoost': {\n",
    "        'model': XGBRegressor(),\n",
    "        'params': {\n",
    "            'n_estimators': [10, 50, 100, 200],\n",
    "            'learning_rate': [0.01, 0.1, 0.5],\n",
    "            'max_depth': [None, 2, 3, 4],\n",
    "            'objective': ['reg:squarederror']\n",
    "        }\n",
    "    },\n",
    "    #'CatBoost': {\n",
    "    #    'model': CatBoostRegressor(verbose=0),  # verbose=0 empêche les spams\n",
    "    #    'params': {\n",
    "    #        'iterations': [10, 50, 100],\n",
    "    #        'learning_rate': [0.01, 0.1, 0.5],\n",
    "    #        'depth': [2, 3, 4],\n",
    "    #        'loss_function': ['RMSE']\n",
    "    #    }\n",
    "    #}\n",
    "}\n"
   ]
  },
  {
   "cell_type": "markdown",
   "metadata": {},
   "source": [
    "<span style=\"color:red\">**Note importante:**</span> \n",
    "\n",
    "Ici nous donnons comme métriques d'évaluation la MSE, le R2 score ainsi que le MAPE. Ce dernier peut sembler peu pertinent du fait que les étiquettes soient normalisées (et MAPE est TRES sensible au petites valeurs) ou que xgboost ne l'utilise pas dans notre exemple comme fonction de perte... Cependant nous allons tout de même calculer une version modifiée par nos soins de cette métrique pour satisfaire un double objectif: mettre en perspective la performance du modèle avec de nouvelles métriques, retourner une métrique interprétable pour le client.\n",
    "\n",
    "Expliquons en quoi nous l'avons modifiée:\n",
    "- La formule initiale \n",
    "\n",
    "`mape = np.mean(np.abs((y_pred - y_test) / y_test)) * 100`\n",
    "\n",
    "- Sa version modifiée \n",
    "\n",
    "`modified_mape = np.mean(np.abs((y_test - y_pred) * y_std / (y_test*y_std + y_mean))) * 100`\n",
    "\n",
    "Cette deuxième version multiplie l'écart de prédiction par la std réelle de y afin de rendre compte de ce que cet écart observé signifie réellement lorsque l'on considère les valeurs foncieres non normalisée (std est considérée ici comme un écart moyen de valeurs à leur moyenne) \n",
    "\n",
    "On divise par y_test*y_std + y_mean afin d'effectuer un rapport sur une variable 'dénormalisée'"
   ]
  },
  {
   "cell_type": "code",
   "execution_count": 77,
   "metadata": {},
   "outputs": [
    {
     "name": "stdout",
     "output_type": "stream",
     "text": [
      "-------------------------------------------------- stats for :  rough_ml --------------------------------------------------\n",
      "------------------------------ Linear Regression\n"
     ]
    },
    {
     "name": "stdout",
     "output_type": "stream",
     "text": [
      "Linear Regression MSE: 273826880774065061888.00\n",
      "Linear Regression R2: -262964839779657318400.00\n",
      "Linear Regression MAPE: 311597388433.63\n",
      "------------------------------ Elastic Net\n",
      "Elastic Net MSE: 0.20\n",
      "Elastic Net R2: 0.81\n",
      "Elastic Net MAPE: 21.26\n",
      "------------------------------ Random Forest\n",
      "Random Forest MSE: 0.15\n",
      "Random Forest R2: 0.85\n",
      "Random Forest MAPE: 16.82\n",
      "------------------------------ XGBoost\n",
      "XGBoost MSE: 0.16\n",
      "XGBoost R2: 0.84\n",
      "XGBoost MAPE: 18.06\n",
      "-------------------------------------------------- stats for :  by_hand --------------------------------------------------\n",
      "------------------------------ Linear Regression\n",
      "Linear Regression MSE: 0.18\n",
      "Linear Regression R2: 0.83\n",
      "Linear Regression MAPE: 21.64\n",
      "------------------------------ Elastic Net\n",
      "Elastic Net MSE: 0.20\n",
      "Elastic Net R2: 0.80\n",
      "Elastic Net MAPE: 21.28\n",
      "------------------------------ Random Forest\n",
      "Random Forest MSE: 0.16\n",
      "Random Forest R2: 0.85\n",
      "Random Forest MAPE: 16.83\n",
      "------------------------------ XGBoost\n",
      "XGBoost MSE: 0.16\n",
      "XGBoost R2: 0.85\n",
      "XGBoost MAPE: 17.61\n",
      "-------------------------------------------------- stats for :  by_reg --------------------------------------------------\n",
      "------------------------------ Linear Regression\n",
      "Linear Regression MSE: 0.18\n",
      "Linear Regression R2: 0.83\n",
      "Linear Regression MAPE: 21.47\n",
      "------------------------------ Elastic Net\n",
      "Elastic Net MSE: 0.20\n",
      "Elastic Net R2: 0.81\n",
      "Elastic Net MAPE: 21.29\n",
      "------------------------------ Random Forest\n",
      "Random Forest MSE: 0.15\n",
      "Random Forest R2: 0.85\n",
      "Random Forest MAPE: 16.94\n",
      "------------------------------ XGBoost\n",
      "XGBoost MSE: 0.16\n",
      "XGBoost R2: 0.85\n",
      "XGBoost MAPE: 17.66\n"
     ]
    }
   ],
   "source": [
    "# Initialisez best_models pour stocker à la fois le meilleur estimateur et le meilleur score pour chaque modèle\n",
    "best_models = {name: {'model': None, 'score': {'mse': np.inf, 'r2': np.inf, 'mape': np.inf}, 'df': None} for name in models_params.keys()}\n",
    "\n",
    "for df_name, df in df_dict.items():\n",
    "    X = df.drop('valeur_fonciere', axis=1)\n",
    "    y = df['valeur_fonciere'] # Trèèèèèèès important\n",
    "    \n",
    "    categorical_cols = X.select_dtypes(include=['object', 'category']).columns\n",
    "    categorical_features_indices = [i for i, col in enumerate(X.columns) if col in categorical_cols]\n",
    "\n",
    "    X_encoded = pd.get_dummies(X, drop_first=True)\n",
    "    X_train, X_test, y_train, y_test = train_test_split(X_encoded, y, test_size=0.2, random_state=42)\n",
    "\n",
    "    print(50*'-', 'stats for : ', df_name, 50*'-')\n",
    "\n",
    "    for name, mp in models_params.items():\n",
    "        \n",
    "        print(30*'-', name)\n",
    "\n",
    "        model = clone(mp['model']) # On s'assure que la validation croisée commencera avec un modèle non entraîné\n",
    "\n",
    "        if name == 'CatBoost':\n",
    "            X_train, X_test, _, _ = train_test_split(X, y, test_size=0.2, random_state=42)\n",
    "            model.set_params(**{'cat_features': categorical_features_indices})\n",
    "            params = mp['params']\n",
    "        else:\n",
    "            params = mp['params']\n",
    "\n",
    "        grid = GridSearchCV(model, params, cv=5, scoring='neg_mean_squared_error', n_jobs=-1)\n",
    "        grid.fit(X_train, y_train)\n",
    "        score = grid.score(X_test, y_test)\n",
    "        \n",
    "        y_pred = grid.best_estimator_.predict(X_test)\n",
    "        # Scores additionnels visant à avoir d'autres perspectives\n",
    "        r2 = r2_score(y_test, y_pred)\n",
    "        modified_mape = np.mean(np.abs((y_test - y_pred) * y_std / (y_test*y_std + y_mean))) * 100\n",
    "\n",
    "        print(f\"{name} MSE: {-score:.2f}\")\n",
    "        print(f\"{name} R2: {r2:.2f}\")\n",
    "        print(f\"{name} MAPE: {modified_mape:.2f}\")\n",
    "        \n",
    "        best_models[name] = {'model': grid.best_estimator_, \n",
    "                                'score': {'mse': -score, \n",
    "                                        'r2': r2, \n",
    "                                        'mape': modified_mape}, \n",
    "                            'df': df_name}\n"
   ]
  },
  {
   "cell_type": "markdown",
   "metadata": {},
   "source": [
    "Et là, nous sommes très déçus. Pourquoi? Parce que comme vu précédemment sur les variables sélectionnées, la valeur foncière dépend surtout de la surface du bâti, c'est même la feature jugée la plus importante par notre premier modèle catboost, ainsi que le prix moyen des voisins qui semble avoir une corrélation linéaire avec la valeur foncière... Ainsi nos modèles de boosting fonctionnent (sur les variables sélectionnées) pas bien mieux (du point de vue de la MSE) qu'une simple régression linéaire."
   ]
  },
  {
   "cell_type": "code",
   "execution_count": 5,
   "metadata": {},
   "outputs": [
    {
     "data": {
      "text/plain": [
       "13.033295341776352"
      ]
     },
     "execution_count": 5,
     "metadata": {},
     "output_type": "execute_result"
    }
   ],
   "source": [
    "# On génère des données d'exemple\n",
    "np.random.seed(0)\n",
    "y = np.random.normal(0, 1, 1000)  \n",
    "\n",
    "y_train, y_test = train_test_split(y, test_size=0.2, random_state=42)\n",
    "\n",
    "# On prend des prédictions y_pred qui sont 10% inférieures à y_test\n",
    "y_pred = y_test * 0.9\n",
    "\n",
    "y_mean = np.mean(y)\n",
    "y_std = np.std(y)\n",
    "\n",
    "# Testons notre métrique!\n",
    "modified_mape = np.mean(np.abs((y_test - y_pred) * y_std / (y_test*y_std + y_mean))) * 100\n",
    "\n",
    "modified_mape"
   ]
  },
  {
   "cell_type": "markdown",
   "metadata": {},
   "source": [
    "Le MAPE modifié semble faire bon effet même s'il surestime un peu les écarts (ce qui n'est pas si mal)! "
   ]
  }
 ],
 "metadata": {
  "kernelspec": {
   "display_name": "datascience",
   "language": "python",
   "name": "python3"
  },
  "language_info": {
   "codemirror_mode": {
    "name": "ipython",
    "version": 3
   },
   "file_extension": ".py",
   "mimetype": "text/x-python",
   "name": "python",
   "nbconvert_exporter": "python",
   "pygments_lexer": "ipython3",
   "version": "3.11.7"
  }
 },
 "nbformat": 4,
 "nbformat_minor": 2
}
