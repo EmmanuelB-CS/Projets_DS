{
 "cells": [
  {
   "cell_type": "markdown",
   "metadata": {},
   "source": [
    "# CASE CAP GEMINI INVENT"
   ]
  },
  {
   "cell_type": "markdown",
   "metadata": {},
   "source": [
    "**Objectifs de l'étude**\n",
    "\n",
    "- Dans une première partie nous allons devoir construire un dataset pertinent (capgemini.csv) qui nous permettra dans la suite de mettre en place un modèle de machine learning, cette étape incluera du feature engineering\n",
    "- Dans un second temps nous mettrons en place un ou plusieurs modèles de machine learning et évaluerons leurs performances, l'objectif du modèle devra être de prédire avec le plus de précision possible la **valeur foncière** d'un bien en fonction de certaines caractéristiques à déterminer "
   ]
  },
  {
   "cell_type": "code",
   "execution_count": 1,
   "metadata": {},
   "outputs": [],
   "source": [
    "import pandas as pd\n",
    "import numpy as np\n",
    "\n",
    "import matplotlib.pyplot as plt\n",
    "import seaborn as sns\n",
    "\n",
    "from EDA_tools import DfAnalysis, DataPreprocessing\n",
    "from DimRed_plus import PCAAnalysis\n",
    "\n",
    "from sklearn.preprocessing import LabelEncoder\n",
    "from sklearn.model_selection import train_test_split, GridSearchCV, KFold\n",
    "from sklearn.compose import ColumnTransformer\n",
    "from sklearn.preprocessing import StandardScaler\n",
    "\n",
    "import warnings\n",
    "warnings.filterwarnings('ignore')"
   ]
  },
  {
   "cell_type": "markdown",
   "metadata": {},
   "source": [
    "## EDA"
   ]
  },
  {
   "cell_type": "code",
   "execution_count": 2,
   "metadata": {},
   "outputs": [],
   "source": [
    "agence = pd.read_csv(r\"data\\agence.csv\")\n",
    "france = pd.read_csv(r\"data\\france.csv\")\n",
    "insee_commune = pd.read_csv(r\"data\\insee_commune.csv\")\n",
    "localisation_commune = pd.read_csv(r\"data\\localisation_commune.csv\")\n"
   ]
  },
  {
   "cell_type": "code",
   "execution_count": 19,
   "metadata": {},
   "outputs": [
    {
     "data": {
      "text/plain": [
       "Index(['Code_commune_INSEE', 'Nom_commune', 'Code_postal', 'Ligne_5',\n",
       "       'Libellé_d_acheminement', 'Libell_d_acheminement', 'coordonnees_gps'],\n",
       "      dtype='object')"
      ]
     },
     "execution_count": 19,
     "metadata": {},
     "output_type": "execute_result"
    }
   ],
   "source": [
    "localisation_commune.columns"
   ]
  },
  {
   "cell_type": "markdown",
   "metadata": {},
   "source": [
    "### Première partie \n",
    "\n",
    "Etudier le dataframe agence: L'agence opère sur 36 communes différentes dans la haute garonne, il ne sera donc pertinent de ne conserver que les \n",
    "\n",
    "Premières remarques sur les variables:\n",
    "- `type_local`, `evaluation_agent` devront être encodées"
   ]
  },
  {
   "cell_type": "code",
   "execution_count": 3,
   "metadata": {},
   "outputs": [
    {
     "data": {
      "text/plain": [
       "(4000, 13)"
      ]
     },
     "execution_count": 3,
     "metadata": {},
     "output_type": "execute_result"
    }
   ],
   "source": [
    "agence.shape"
   ]
  },
  {
   "cell_type": "code",
   "execution_count": 4,
   "metadata": {},
   "outputs": [
    {
     "data": {
      "text/html": [
       "<div>\n",
       "<style scoped>\n",
       "    .dataframe tbody tr th:only-of-type {\n",
       "        vertical-align: middle;\n",
       "    }\n",
       "\n",
       "    .dataframe tbody tr th {\n",
       "        vertical-align: top;\n",
       "    }\n",
       "\n",
       "    .dataframe thead th {\n",
       "        text-align: right;\n",
       "    }\n",
       "</style>\n",
       "<table border=\"1\" class=\"dataframe\">\n",
       "  <thead>\n",
       "    <tr style=\"text-align: right;\">\n",
       "      <th></th>\n",
       "      <th>valeur_fonciere</th>\n",
       "      <th>code_postal</th>\n",
       "      <th>surface_reelle_bati</th>\n",
       "      <th>surface_terrain</th>\n",
       "      <th>nombre_pieces_principales</th>\n",
       "      <th>agent</th>\n",
       "      <th>prixcible</th>\n",
       "      <th>prixvente_initial</th>\n",
       "    </tr>\n",
       "  </thead>\n",
       "  <tbody>\n",
       "    <tr>\n",
       "      <th>mean</th>\n",
       "      <td>2.124442e+05</td>\n",
       "      <td>31320.197500</td>\n",
       "      <td>77.036250</td>\n",
       "      <td>280.131750</td>\n",
       "      <td>3.343750</td>\n",
       "      <td>4.511750</td>\n",
       "      <td>2.161692e+05</td>\n",
       "      <td>2.270006e+05</td>\n",
       "    </tr>\n",
       "    <tr>\n",
       "      <th>std</th>\n",
       "      <td>1.350077e+05</td>\n",
       "      <td>222.062297</td>\n",
       "      <td>42.930131</td>\n",
       "      <td>408.480567</td>\n",
       "      <td>1.555214</td>\n",
       "      <td>2.892914</td>\n",
       "      <td>1.379113e+05</td>\n",
       "      <td>1.448099e+05</td>\n",
       "    </tr>\n",
       "    <tr>\n",
       "      <th>min</th>\n",
       "      <td>2.200000e+04</td>\n",
       "      <td>31000.000000</td>\n",
       "      <td>12.000000</td>\n",
       "      <td>8.000000</td>\n",
       "      <td>1.000000</td>\n",
       "      <td>0.000000</td>\n",
       "      <td>2.400000e+04</td>\n",
       "      <td>2.500000e+04</td>\n",
       "    </tr>\n",
       "    <tr>\n",
       "      <th>max</th>\n",
       "      <td>1.500000e+06</td>\n",
       "      <td>31830.000000</td>\n",
       "      <td>385.000000</td>\n",
       "      <td>7432.000000</td>\n",
       "      <td>11.000000</td>\n",
       "      <td>9.000000</td>\n",
       "      <td>1.532000e+06</td>\n",
       "      <td>1.609000e+06</td>\n",
       "    </tr>\n",
       "  </tbody>\n",
       "</table>\n",
       "</div>"
      ],
      "text/plain": [
       "      valeur_fonciere   code_postal  surface_reelle_bati  surface_terrain  \\\n",
       "mean     2.124442e+05  31320.197500            77.036250       280.131750   \n",
       "std      1.350077e+05    222.062297            42.930131       408.480567   \n",
       "min      2.200000e+04  31000.000000            12.000000         8.000000   \n",
       "max      1.500000e+06  31830.000000           385.000000      7432.000000   \n",
       "\n",
       "      nombre_pieces_principales     agent     prixcible  prixvente_initial  \n",
       "mean                   3.343750  4.511750  2.161692e+05       2.270006e+05  \n",
       "std                    1.555214  2.892914  1.379113e+05       1.448099e+05  \n",
       "min                    1.000000  0.000000  2.400000e+04       2.500000e+04  \n",
       "max                   11.000000  9.000000  1.532000e+06       1.609000e+06  "
      ]
     },
     "execution_count": 4,
     "metadata": {},
     "output_type": "execute_result"
    }
   ],
   "source": [
    "agence.describe().loc[['mean', 'std', 'min', 'max']]"
   ]
  },
  {
   "cell_type": "code",
   "execution_count": 5,
   "metadata": {},
   "outputs": [
    {
     "name": "stdout",
     "output_type": "stream",
     "text": [
      "<class 'pandas.core.frame.DataFrame'>\n",
      "RangeIndex: 4000 entries, 0 to 3999\n",
      "Data columns (total 13 columns):\n",
      " #   Column                     Non-Null Count  Dtype  \n",
      "---  ------                     --------------  -----  \n",
      " 0   date_mutation              4000 non-null   object \n",
      " 1   valeur_fonciere            4000 non-null   float64\n",
      " 2   code_postal                4000 non-null   int64  \n",
      " 3   nom_commune                4000 non-null   object \n",
      " 4   id_parcelle                4000 non-null   object \n",
      " 5   type_local                 4000 non-null   object \n",
      " 6   surface_reelle_bati        4000 non-null   float64\n",
      " 7   surface_terrain            4000 non-null   float64\n",
      " 8   nombre_pieces_principales  4000 non-null   float64\n",
      " 9   agent                      4000 non-null   int64  \n",
      " 10  prixcible                  4000 non-null   int64  \n",
      " 11  prixvente_initial          4000 non-null   int64  \n",
      " 12  evaluation_agent           4000 non-null   object \n",
      "dtypes: float64(4), int64(4), object(5)\n",
      "memory usage: 406.4+ KB\n"
     ]
    }
   ],
   "source": [
    "agence.info()"
   ]
  },
  {
   "cell_type": "code",
   "execution_count": 6,
   "metadata": {},
   "outputs": [
    {
     "data": {
      "text/html": [
       "<div>\n",
       "<style scoped>\n",
       "    .dataframe tbody tr th:only-of-type {\n",
       "        vertical-align: middle;\n",
       "    }\n",
       "\n",
       "    .dataframe tbody tr th {\n",
       "        vertical-align: top;\n",
       "    }\n",
       "\n",
       "    .dataframe thead th {\n",
       "        text-align: right;\n",
       "    }\n",
       "</style>\n",
       "<table border=\"1\" class=\"dataframe\">\n",
       "  <thead>\n",
       "    <tr style=\"text-align: right;\">\n",
       "      <th></th>\n",
       "      <th>Data Type</th>\n",
       "    </tr>\n",
       "  </thead>\n",
       "  <tbody>\n",
       "    <tr>\n",
       "      <th>date_mutation</th>\n",
       "      <td>&lt;class 'str'&gt;</td>\n",
       "    </tr>\n",
       "    <tr>\n",
       "      <th>nom_commune</th>\n",
       "      <td>&lt;class 'str'&gt;</td>\n",
       "    </tr>\n",
       "    <tr>\n",
       "      <th>id_parcelle</th>\n",
       "      <td>&lt;class 'str'&gt;</td>\n",
       "    </tr>\n",
       "    <tr>\n",
       "      <th>type_local</th>\n",
       "      <td>&lt;class 'str'&gt;</td>\n",
       "    </tr>\n",
       "    <tr>\n",
       "      <th>evaluation_agent</th>\n",
       "      <td>&lt;class 'str'&gt;</td>\n",
       "    </tr>\n",
       "  </tbody>\n",
       "</table>\n",
       "</div>"
      ],
      "text/plain": [
       "                      Data Type\n",
       "date_mutation     <class 'str'>\n",
       "nom_commune       <class 'str'>\n",
       "id_parcelle       <class 'str'>\n",
       "type_local        <class 'str'>\n",
       "evaluation_agent  <class 'str'>"
      ]
     },
     "execution_count": 6,
     "metadata": {},
     "output_type": "execute_result"
    }
   ],
   "source": [
    "obj_cols = agence.select_dtypes(include='object').columns\n",
    "types = agence[obj_cols].apply(lambda x: x.apply(type).unique())\n",
    "types = pd.DataFrame(types.to_dict()).T\n",
    "types.columns = ['Data Type']\n",
    "types\n"
   ]
  },
  {
   "cell_type": "code",
   "execution_count": 12,
   "metadata": {},
   "outputs": [
    {
     "data": {
      "text/plain": [
       "Index(['valeur_fonciere', 'nom_commune', 'type_local', 'surface_reelle_bati',\n",
       "       'surface_terrain', 'nombre_pieces_principales', 'agent',\n",
       "       'evaluation_agent'],\n",
       "      dtype='object')"
      ]
     },
     "execution_count": 12,
     "metadata": {},
     "output_type": "execute_result"
    }
   ],
   "source": [
    "agence['date_mutation'] = pd.to_datetime(agence['date_mutation'], format='%Y-%m-%d')\n",
    "agence_new = agence.drop(['id_parcelle','code_postal','date_mutation','prixcible','prixvente_initial'], axis=1)\n",
    "agence_new.columns\n"
   ]
  },
  {
   "cell_type": "code",
   "execution_count": 20,
   "metadata": {},
   "outputs": [
    {
     "name": "stdout",
     "output_type": "stream",
     "text": [
      "<class 'pandas.core.frame.DataFrame'>\n",
      "RangeIndex: 4000 entries, 0 to 3999\n",
      "Data columns (total 7 columns):\n",
      " #   Column                     Non-Null Count  Dtype  \n",
      "---  ------                     --------------  -----  \n",
      " 0   valeur_fonciere            4000 non-null   float64\n",
      " 1   surface_reelle_bati        4000 non-null   float64\n",
      " 2   surface_terrain            4000 non-null   float64\n",
      " 3   nombre_pieces_principales  4000 non-null   float64\n",
      " 4   agent                      4000 non-null   int64  \n",
      " 5   type_local                 4000 non-null   object \n",
      " 6   evaluation_agent           4000 non-null   object \n",
      "dtypes: float64(4), int64(1), object(2)\n",
      "memory usage: 218.9+ KB\n"
     ]
    }
   ],
   "source": [
    "pre_agence = DataPreprocessing(agence_new)\n",
    "pre_agence.scale_selected_columns()\n",
    "X = pre_agence.scaled_df.drop('nom_commune', axis=1)\n",
    "y = pre_agence.scaled_df['nom_commune']\n",
    "X.info()"
   ]
  },
  {
   "cell_type": "markdown",
   "metadata": {},
   "source": [
    "Le dataframe est \n",
    "\n",
    "on va surtout utiliser communes parce que pas de données dans les communes (du type placement dans la commune) et géoloc,pour ne pas faire exploser la dimensionnalité, on créera deux colonnes longitude et latitude pour situer les villes, voire ne garder qu'une seule des deux puisque les villes considérées doivent (je suppose) toutes avoir une des deux coordonnées diff, cela revient à procéder à des embeddings\n",
    "\n",
    "Même si code postal prend en compte la ville de facon numérique ce n'est pas une variable qui prend intrinsèquement en compte les distances géographiques entre villes et ce n'est pas une variable continue, on peut donc retirer code postal et id commune pour le df de ML\n",
    "\n",
    "la date de mutation \n",
    "\n",
    "on prendra france localisation et insee commune\n",
    "insee commune permettra d'extrapoler aux villes pour lesquelles il n'y a pas eu de ventes "
   ]
  },
  {
   "cell_type": "code",
   "execution_count": 9,
   "metadata": {},
   "outputs": [
    {
     "data": {
      "text/html": [
       "<div>\n",
       "<style scoped>\n",
       "    .dataframe tbody tr th:only-of-type {\n",
       "        vertical-align: middle;\n",
       "    }\n",
       "\n",
       "    .dataframe tbody tr th {\n",
       "        vertical-align: top;\n",
       "    }\n",
       "\n",
       "    .dataframe thead th {\n",
       "        text-align: right;\n",
       "    }\n",
       "</style>\n",
       "<table border=\"1\" class=\"dataframe\">\n",
       "  <thead>\n",
       "    <tr style=\"text-align: right;\">\n",
       "      <th></th>\n",
       "      <th>date_mutation</th>\n",
       "      <th>valeur_fonciere</th>\n",
       "      <th>code_postal</th>\n",
       "      <th>id_commune</th>\n",
       "      <th>type_local</th>\n",
       "      <th>surface_reelle_bati</th>\n",
       "      <th>surface_terrain</th>\n",
       "      <th>nombre_pieces_principales</th>\n",
       "      <th>agent</th>\n",
       "      <th>prixcible</th>\n",
       "      <th>prixvente_initial</th>\n",
       "      <th>evaluation_agent</th>\n",
       "    </tr>\n",
       "  </thead>\n",
       "  <tbody>\n",
       "    <tr>\n",
       "      <th>0</th>\n",
       "      <td>2014-01-03</td>\n",
       "      <td>210000.0</td>\n",
       "      <td>31000</td>\n",
       "      <td>33</td>\n",
       "      <td>Appartement</td>\n",
       "      <td>70.0</td>\n",
       "      <td>70.0</td>\n",
       "      <td>3.0</td>\n",
       "      <td>1</td>\n",
       "      <td>206000</td>\n",
       "      <td>216000</td>\n",
       "      <td>Renove</td>\n",
       "    </tr>\n",
       "    <tr>\n",
       "      <th>1</th>\n",
       "      <td>2014-02-07</td>\n",
       "      <td>162500.0</td>\n",
       "      <td>31500</td>\n",
       "      <td>33</td>\n",
       "      <td>Appartement</td>\n",
       "      <td>67.0</td>\n",
       "      <td>67.0</td>\n",
       "      <td>3.0</td>\n",
       "      <td>1</td>\n",
       "      <td>155000</td>\n",
       "      <td>163000</td>\n",
       "      <td>Ancien</td>\n",
       "    </tr>\n",
       "    <tr>\n",
       "      <th>2</th>\n",
       "      <td>2014-02-18</td>\n",
       "      <td>381000.0</td>\n",
       "      <td>31200</td>\n",
       "      <td>33</td>\n",
       "      <td>Appartement</td>\n",
       "      <td>100.0</td>\n",
       "      <td>100.0</td>\n",
       "      <td>4.0</td>\n",
       "      <td>1</td>\n",
       "      <td>391000</td>\n",
       "      <td>411000</td>\n",
       "      <td>Renove</td>\n",
       "    </tr>\n",
       "    <tr>\n",
       "      <th>3</th>\n",
       "      <td>2014-02-24</td>\n",
       "      <td>159900.0</td>\n",
       "      <td>31200</td>\n",
       "      <td>33</td>\n",
       "      <td>Appartement</td>\n",
       "      <td>57.0</td>\n",
       "      <td>57.0</td>\n",
       "      <td>3.0</td>\n",
       "      <td>1</td>\n",
       "      <td>170000</td>\n",
       "      <td>178000</td>\n",
       "      <td>Renove</td>\n",
       "    </tr>\n",
       "    <tr>\n",
       "      <th>4</th>\n",
       "      <td>2014-02-26</td>\n",
       "      <td>58000.0</td>\n",
       "      <td>31100</td>\n",
       "      <td>33</td>\n",
       "      <td>Appartement</td>\n",
       "      <td>34.0</td>\n",
       "      <td>34.0</td>\n",
       "      <td>2.0</td>\n",
       "      <td>1</td>\n",
       "      <td>62000</td>\n",
       "      <td>65000</td>\n",
       "      <td>Ancien</td>\n",
       "    </tr>\n",
       "    <tr>\n",
       "      <th>...</th>\n",
       "      <td>...</td>\n",
       "      <td>...</td>\n",
       "      <td>...</td>\n",
       "      <td>...</td>\n",
       "      <td>...</td>\n",
       "      <td>...</td>\n",
       "      <td>...</td>\n",
       "      <td>...</td>\n",
       "      <td>...</td>\n",
       "      <td>...</td>\n",
       "      <td>...</td>\n",
       "      <td>...</td>\n",
       "    </tr>\n",
       "    <tr>\n",
       "      <th>3995</th>\n",
       "      <td>2017-07-13</td>\n",
       "      <td>140000.0</td>\n",
       "      <td>31600</td>\n",
       "      <td>27</td>\n",
       "      <td>Appartement</td>\n",
       "      <td>100.0</td>\n",
       "      <td>100.0</td>\n",
       "      <td>4.0</td>\n",
       "      <td>2</td>\n",
       "      <td>150000</td>\n",
       "      <td>158000</td>\n",
       "      <td>Ancien</td>\n",
       "    </tr>\n",
       "    <tr>\n",
       "      <th>3996</th>\n",
       "      <td>2017-04-14</td>\n",
       "      <td>108500.0</td>\n",
       "      <td>31600</td>\n",
       "      <td>8</td>\n",
       "      <td>Appartement</td>\n",
       "      <td>64.0</td>\n",
       "      <td>64.0</td>\n",
       "      <td>3.0</td>\n",
       "      <td>5</td>\n",
       "      <td>111000</td>\n",
       "      <td>117000</td>\n",
       "      <td>Ancien</td>\n",
       "    </tr>\n",
       "    <tr>\n",
       "      <th>3997</th>\n",
       "      <td>2018-01-27</td>\n",
       "      <td>90000.0</td>\n",
       "      <td>31600</td>\n",
       "      <td>8</td>\n",
       "      <td>Appartement</td>\n",
       "      <td>52.0</td>\n",
       "      <td>52.0</td>\n",
       "      <td>3.0</td>\n",
       "      <td>8</td>\n",
       "      <td>86000</td>\n",
       "      <td>90000</td>\n",
       "      <td>Renove</td>\n",
       "    </tr>\n",
       "    <tr>\n",
       "      <th>3998</th>\n",
       "      <td>2017-07-27</td>\n",
       "      <td>204900.0</td>\n",
       "      <td>31700</td>\n",
       "      <td>0</td>\n",
       "      <td>Appartement</td>\n",
       "      <td>81.0</td>\n",
       "      <td>81.0</td>\n",
       "      <td>4.0</td>\n",
       "      <td>5</td>\n",
       "      <td>209000</td>\n",
       "      <td>219000</td>\n",
       "      <td>Ancien</td>\n",
       "    </tr>\n",
       "    <tr>\n",
       "      <th>3999</th>\n",
       "      <td>2017-06-12</td>\n",
       "      <td>86000.0</td>\n",
       "      <td>31120</td>\n",
       "      <td>25</td>\n",
       "      <td>Appartement</td>\n",
       "      <td>36.0</td>\n",
       "      <td>36.0</td>\n",
       "      <td>2.0</td>\n",
       "      <td>3</td>\n",
       "      <td>82000</td>\n",
       "      <td>86000</td>\n",
       "      <td>Ancien</td>\n",
       "    </tr>\n",
       "  </tbody>\n",
       "</table>\n",
       "<p>4000 rows × 12 columns</p>\n",
       "</div>"
      ],
      "text/plain": [
       "     date_mutation  valeur_fonciere  code_postal  id_commune   type_local  \\\n",
       "0       2014-01-03         210000.0        31000          33  Appartement   \n",
       "1       2014-02-07         162500.0        31500          33  Appartement   \n",
       "2       2014-02-18         381000.0        31200          33  Appartement   \n",
       "3       2014-02-24         159900.0        31200          33  Appartement   \n",
       "4       2014-02-26          58000.0        31100          33  Appartement   \n",
       "...            ...              ...          ...         ...          ...   \n",
       "3995    2017-07-13         140000.0        31600          27  Appartement   \n",
       "3996    2017-04-14         108500.0        31600           8  Appartement   \n",
       "3997    2018-01-27          90000.0        31600           8  Appartement   \n",
       "3998    2017-07-27         204900.0        31700           0  Appartement   \n",
       "3999    2017-06-12          86000.0        31120          25  Appartement   \n",
       "\n",
       "      surface_reelle_bati  surface_terrain  nombre_pieces_principales  agent  \\\n",
       "0                    70.0             70.0                        3.0      1   \n",
       "1                    67.0             67.0                        3.0      1   \n",
       "2                   100.0            100.0                        4.0      1   \n",
       "3                    57.0             57.0                        3.0      1   \n",
       "4                    34.0             34.0                        2.0      1   \n",
       "...                   ...              ...                        ...    ...   \n",
       "3995                100.0            100.0                        4.0      2   \n",
       "3996                 64.0             64.0                        3.0      5   \n",
       "3997                 52.0             52.0                        3.0      8   \n",
       "3998                 81.0             81.0                        4.0      5   \n",
       "3999                 36.0             36.0                        2.0      3   \n",
       "\n",
       "      prixcible  prixvente_initial evaluation_agent  \n",
       "0        206000             216000           Renove  \n",
       "1        155000             163000           Ancien  \n",
       "2        391000             411000           Renove  \n",
       "3        170000             178000           Renove  \n",
       "4         62000              65000           Ancien  \n",
       "...         ...                ...              ...  \n",
       "3995     150000             158000           Ancien  \n",
       "3996     111000             117000           Ancien  \n",
       "3997      86000              90000           Renove  \n",
       "3998     209000             219000           Ancien  \n",
       "3999      82000              86000           Ancien  \n",
       "\n",
       "[4000 rows x 12 columns]"
      ]
     },
     "execution_count": 9,
     "metadata": {},
     "output_type": "execute_result"
    }
   ],
   "source": [
    "encoder = LabelEncoder()\n",
    "agence['nom_commune'] = encoder.fit_transform(agence['nom_commune'])\n",
    "agence = agence.rename(columns={'nom_commune': 'id_commune'})\n",
    "\n",
    "agence\n"
   ]
  },
  {
   "cell_type": "code",
   "execution_count": 10,
   "metadata": {},
   "outputs": [
    {
     "data": {
      "image/png": "[encoded data removed]",
      "text/plain": [
       "<Figure size 1000x500 with 2 Axes>"
      ]
     },
     "metadata": {},
     "output_type": "display_data"
    }
   ],
   "source": [
    "\n",
    "fig, (ax1, ax2) = plt.subplots(ncols=2, figsize=(10, 5))\n",
    "\n",
    "sns.histplot(data=agence, x='valeur_fonciere', kde=True, ax=ax1)\n",
    "ax1.set_title('Histogramme avec KDE')\n",
    "\n",
    "sns.boxplot(data=agence, y='valeur_fonciere', ax=ax2)\n",
    "ax2.set_title('Box plot')\n",
    "\n",
    "plt.show()\n"
   ]
  },
  {
   "cell_type": "code",
   "execution_count": 26,
   "metadata": {},
   "outputs": [
    {
     "data": {
      "image/png": "[encoded data removed]",
      "text/plain": [
       "<Figure size 700x700 with 1 Axes>"
      ]
     },
     "metadata": {},
     "output_type": "display_data"
    }
   ],
   "source": [
    "fig = plt.figure(figsize=(7,7))\n",
    "sns.histplot(data=agence, x='nom_commune')\n",
    "plt.xticks(rotation=90)\n",
    "\n",
    "plt.show()"
   ]
  },
  {
   "cell_type": "markdown",
   "metadata": {},
   "source": [
    "prendre toutes les villes de la haute garonne dans france et récupérer leurs coordonnées \n",
    "ajouter distance au centre ville de toulouse: Coordonnées GPS du centre-ville de Toulouse : Lat 43.603, Lon 1.443\n",
    "au lieu d'utiliser la localisation exacte des adresses je vais utiliser les données du carreau naturel ie \n",
    "\n",
    "principalement: Ind_snv : Somme des niveaux de vie winsorisés des individus (ind snv), carreau ind, carreau men, carreau surf, carreau men prop (les menages proprio), carreau I pauv, log soc (logement sociaux), men coll (ménages en log collectifs), men_mais (menage en maison) et (Log_av45 : Nombre de logements construits avant 1945\n",
    "Log_45_70 : Nombre de logements construits entre 1945 et 1969\n",
    "Log_70_90 : Nombre de logements construits entre 1970 et 1989\n",
    "Log_ap90 : Nombre de logements construits depuis 1990), et date mutation qui est la date de la vente\n",
    "\n"
   ]
  },
  {
   "cell_type": "code",
   "execution_count": 11,
   "metadata": {},
   "outputs": [
    {
     "data": {
      "text/plain": [
       "Index(['date_mutation', 'valeur_fonciere', 'adresse_code_voie', 'code_postal',\n",
       "       'nom_commune', 'code_commune', 'id_parcelle', 'type_local',\n",
       "       'surface_reelle_bati', 'surface_terrain', 'nombre_pieces_principales',\n",
       "       'longitude', 'latitude', 'departement', 'index_right',\n",
       "       'carreau_Id_carr_n', 'carreau_Ind', 'carreau_Men', 'carreau_Men_pauv',\n",
       "       'carreau_Men_1ind', 'carreau_Men_5ind', 'carreau_Men_prop',\n",
       "       'carreau_Men_fmp', 'carreau_Ind_snv', 'carreau_Men_surf',\n",
       "       'carreau_Men_coll', 'carreau_Men_mais', 'carreau_Log_av45',\n",
       "       'carreau_Log_45_70', 'carreau_Log_70_90', 'carreau_Log_ap90',\n",
       "       'carreau_Log_inc', 'carreau_Log_soc', 'carreau_Ind_0_3',\n",
       "       'carreau_Ind_4_5', 'carreau_Ind_6_10', 'carreau_Ind_11_17',\n",
       "       'carreau_Ind_18_24', 'carreau_Ind_25_39', 'carreau_Ind_40_54',\n",
       "       'carreau_Ind_55_64', 'carreau_Ind_65_79', 'carreau_Ind_80p',\n",
       "       'carreau_Ind_inc', 'carreau_I_pauv', 'carreau_t_maille'],\n",
       "      dtype='object')"
      ]
     },
     "execution_count": 11,
     "metadata": {},
     "output_type": "execute_result"
    }
   ],
   "source": [
    "france.columns"
   ]
  },
  {
   "cell_type": "code",
   "execution_count": 12,
   "metadata": {},
   "outputs": [],
   "source": [
    "france['code_postal'] = france['code_postal'].astype(str)\n",
    "ventes_HG = france[france['code_postal'].str.startswith('31')]\n",
    "ventes_HG = ventes_HG.loc[:, ['date_mutation', 'valeur_fonciere', 'type_local',\n",
    "            'surface_reelle_bati', 'surface_terrain', 'nombre_pieces_principales',\n",
    "            'longitude', 'latitude','carreau_Ind', 'carreau_Men', 'carreau_Men_pauv',\n",
    "            'carreau_Men_prop', 'carreau_Ind_snv', 'carreau_Men_surf',\n",
    "            'carreau_Men_coll', 'carreau_Men_mais', 'carreau_Log_av45',\n",
    "            'carreau_Log_45_70', 'carreau_Log_70_90', 'carreau_Log_ap90',\n",
    "            'carreau_Log_inc', 'carreau_Log_soc']]"
   ]
  },
  {
   "cell_type": "code",
   "execution_count": 13,
   "metadata": {},
   "outputs": [],
   "source": [
    "ventes_HG['date_mutation'] = pd.to_datetime(ventes_HG['date_mutation'], format='%Y-%m-%d')\n",
    "ventes_HG = pd.get_dummies(ventes_HG, columns=['type_local'], drop_first=True)"
   ]
  },
  {
   "cell_type": "code",
   "execution_count": 15,
   "metadata": {},
   "outputs": [
    {
     "name": "stdout",
     "output_type": "stream",
     "text": [
      "No duplicated rows\n",
      "57661 row(s) have 0 missing values\n",
      "Total number of rows with missing values: 0\n",
      "List of indexes of rows with missing values: []\n"
     ]
    }
   ],
   "source": [
    "analysis_ventes_HG = DfAnalysis(ventes_HG)\n",
    "analysis_ventes_HG.duplicate_check()\n",
    "analysis_ventes_HG.missing_values_check()\n",
    "analysis_ventes_HG.correlation_matrix()"
   ]
  },
  {
   "cell_type": "markdown",
   "metadata": {},
   "source": [
    "Maintenant on peut s'occuper de se débarasser des colonnes redondantes, trop corrélées à d'autres, on va plutot les combiner avec une pca, il faut d'abord normaliser nos variables"
   ]
  },
  {
   "cell_type": "code",
   "execution_count": 16,
   "metadata": {},
   "outputs": [
    {
     "name": "stdout",
     "output_type": "stream",
     "text": [
      "<class 'pandas.core.frame.DataFrame'>\n",
      "Index: 57661 entries, 42517 to 2640488\n",
      "Data columns (total 22 columns):\n",
      " #   Column                     Non-Null Count  Dtype         \n",
      "---  ------                     --------------  -----         \n",
      " 0   date_mutation              57661 non-null  datetime64[ns]\n",
      " 1   valeur_fonciere            57661 non-null  float64       \n",
      " 2   surface_reelle_bati        57661 non-null  float64       \n",
      " 3   surface_terrain            57661 non-null  float64       \n",
      " 4   nombre_pieces_principales  57661 non-null  float64       \n",
      " 5   longitude                  57661 non-null  float64       \n",
      " 6   latitude                   57661 non-null  float64       \n",
      " 7   carreau_Ind                57661 non-null  float64       \n",
      " 8   carreau_Men                57661 non-null  float64       \n",
      " 9   carreau_Men_pauv           57661 non-null  float64       \n",
      " 10  carreau_Men_prop           57661 non-null  float64       \n",
      " 11  carreau_Ind_snv            57661 non-null  float64       \n",
      " 12  carreau_Men_surf           57661 non-null  float64       \n",
      " 13  carreau_Men_coll           57661 non-null  float64       \n",
      " 14  carreau_Men_mais           57661 non-null  float64       \n",
      " 15  carreau_Log_av45           57661 non-null  float64       \n",
      " 16  carreau_Log_45_70          57661 non-null  float64       \n",
      " 17  carreau_Log_70_90          57661 non-null  float64       \n",
      " 18  carreau_Log_ap90           57661 non-null  float64       \n",
      " 19  carreau_Log_inc            57661 non-null  float64       \n",
      " 20  carreau_Log_soc            57661 non-null  float64       \n",
      " 21  type_local_Maison          57661 non-null  bool          \n",
      "dtypes: bool(1), datetime64[ns](1), float64(20)\n",
      "memory usage: 9.7 MB\n"
     ]
    }
   ],
   "source": [
    "ventes_HG.info()"
   ]
  },
  {
   "cell_type": "code",
   "execution_count": 17,
   "metadata": {},
   "outputs": [
    {
     "ename": "AttributeError",
     "evalue": "'DataPreprocessing' object has no attribute 'scale_df'",
     "output_type": "error",
     "traceback": [
      "\u001b[1;31m---------------------------------------------------------------------------\u001b[0m",
      "\u001b[1;31mAttributeError\u001b[0m                            Traceback (most recent call last)",
      "Cell \u001b[1;32mIn[17], line 7\u001b[0m\n\u001b[0;32m      5\u001b[0m preprocessor \u001b[38;5;241m=\u001b[39m DataPreprocessing(ventes_HG, columns_to_exclude)\n\u001b[0;32m      6\u001b[0m \u001b[38;5;66;03m# Appliquez la mise à l'échelle\u001b[39;00m\n\u001b[1;32m----> 7\u001b[0m ventes_HG_scaled_df \u001b[38;5;241m=\u001b[39m \u001b[43mpreprocessor\u001b[49m\u001b[38;5;241;43m.\u001b[39;49m\u001b[43mscale_selected_columns\u001b[49m\u001b[43m(\u001b[49m\u001b[43m)\u001b[49m\n\u001b[0;32m      9\u001b[0m \u001b[38;5;66;03m# Étape 2: Division des données\u001b[39;00m\n\u001b[0;32m     11\u001b[0m X_train, X_test, y_train, y_test \u001b[38;5;241m=\u001b[39m preprocessor\u001b[38;5;241m.\u001b[39msplit_data(\u001b[38;5;124m'\u001b[39m\u001b[38;5;124mvaleur_fonciere\u001b[39m\u001b[38;5;124m'\u001b[39m)\n",
      "File \u001b[1;32mc:\\Users\\User\\Desktop\\Projets en cours\\Data_Science\\Mini-projets\\Case_cap_gemini_emmanuel_benichou\\EDA_tools.py:383\u001b[0m, in \u001b[0;36mDataPreprocessing.scale_selected_columns\u001b[1;34m(self)\u001b[0m\n\u001b[0;32m    380\u001b[0m scaled_df\u001b[38;5;241m.\u001b[39mcolumns \u001b[38;5;241m=\u001b[39m scaled_columns \u001b[38;5;241m+\u001b[39m \u001b[38;5;28mself\u001b[39m\u001b[38;5;241m.\u001b[39mcolumns_to_exclude \u001b[38;5;241m+\u001b[39m \u001b[38;5;28mself\u001b[39m\u001b[38;5;241m.\u001b[39mcategorical_features\n\u001b[0;32m    382\u001b[0m \u001b[38;5;28;01mfor\u001b[39;00m col \u001b[38;5;129;01min\u001b[39;00m scaled_columns \u001b[38;5;241m+\u001b[39m \u001b[38;5;28mself\u001b[39m\u001b[38;5;241m.\u001b[39mcolumns_to_exclude \u001b[38;5;241m+\u001b[39m \u001b[38;5;28mself\u001b[39m\u001b[38;5;241m.\u001b[39mcategorical_features:\n\u001b[1;32m--> 383\u001b[0m     scaled_df[col] \u001b[38;5;241m=\u001b[39m \u001b[38;5;28;43mself\u001b[39;49m\u001b[38;5;241;43m.\u001b[39;49m\u001b[43mscale_df\u001b[49m[col]\u001b[38;5;241m.\u001b[39mastype(\u001b[38;5;28mself\u001b[39m\u001b[38;5;241m.\u001b[39mdf[col]\u001b[38;5;241m.\u001b[39mdtypes)\n\u001b[0;32m    384\u001b[0m \u001b[38;5;66;03m# Ensure the type of each Serie is matching with the original dataset dtypes\u001b[39;00m\n\u001b[0;32m    386\u001b[0m \u001b[38;5;28mself\u001b[39m\u001b[38;5;241m.\u001b[39mscaled_df \u001b[38;5;241m=\u001b[39m scaled_df\n",
      "\u001b[1;31mAttributeError\u001b[0m: 'DataPreprocessing' object has no attribute 'scale_df'"
     ]
    }
   ],
   "source": [
    "# Étape 1: Prétraitement des données\n",
    "\n",
    "columns_to_exclude = ['date_mutation', 'type_local_Maison']\n",
    "# Initialisez la classe en passant le DataFrame et les colonnes à exclure\n",
    "preprocessor = DataPreprocessing(ventes_HG, columns_to_exclude)\n",
    "# Appliquez la mise à l'échelle\n",
    "ventes_HG_scaled_df = preprocessor.scale_selected_columns()\n",
    "\n",
    "# Étape 2: Division des données\n",
    "\n",
    "X_train, X_test, y_train, y_test = preprocessor.split_data('valeur_fonciere')\n",
    "\n",
    "\n"
   ]
  },
  {
   "cell_type": "code",
   "execution_count": null,
   "metadata": {},
   "outputs": [
    {
     "data": {
      "image/png": "[encoded data removed]",
      "text/plain": [
       "<Figure size 800x500 with 1 Axes>"
      ]
     },
     "metadata": {},
     "output_type": "display_data"
    },
    {
     "data": {
      "application/vnd.plotly.v1+json": {
       "config": {
        "plotlyServerURL": "https://plot.ly"
       },
       "data": [
        {
         "hovertemplate": "PC1=%{x}<br>PC2=%{y}<br>Target=%{marker.color}<extra></extra>",
         "legendgroup": "",
         "marker": {
          "color": [
           -0.5653399440066422,
           -0.17048830094211473,
           -0.661666581259022,
           -0.2063042960659541,
           0.472360648212176,
           -0.45664409083435464,
           -0.47777027377720616,
           0.09690568710346854,
           -0.5018519330903011,
           -0.44274240568543166,
           -0.2019258125544823,
           -0.2570947047990271,
           -0.5127981418689805,
           0.014524519835126487,
           -0.4602563397313189,
           -0.6682343065262297,
           0.12427120905016734,
           1.1672805811721398,
           -0.8718337898096687,
           0.09143258271412878,
           0.40668339554009886,
           0.21753290784451682,
           2.6831779506537137,
           0.7340626076928459,
           -0.7160692388890593,
           2.3682440086794685,
           0.5446056261514608,
           -0.47558103202147023,
           -0.21506126308889773,
           -0.615692504388568,
           -0.11873462583651796,
           0.016998363019108058,
           -0.6682343065262297,
           -0.2697923069822953,
           0.3410061428680218,
           0.33794120440999154,
           -0.7820748778244967,
           0.5511733514186685,
           -0.6529096142360784,
           -0.2807385157609748,
           -0.6457945785299367,
           -0.43398543866248807,
           0.9014520323364131,
           -0.12574019945487286,
           0.05202623111088252,
           0.06954016515676974,
           -0.44274240568543166,
           -0.30263093331833385,
           -0.17302782137876838,
           -0.3109500519901303,
           -0.07079023138590167,
           -0.24133216415772857,
           0.7236856017706577,
           0.13521741782884686,
           -0.39020060354777,
           -0.3241292873596604,
           -0.8017780536261199,
           1.42687005371303,
           0.31977049783738354,
           -0.6441526472131348,
           0.15505194813581413,
           0.3022565637914963,
           0.5485462613117854,
           -0.41822289802118956,
           -0.40246035737989105,
           -0.6310171966787194,
           -0.4646348232427907,
           0.3175812560816476,
           -0.14938401041682062,
           -0.5522044934722269,
           0.04398733538382028,
           0.31692448355492686,
           -0.2063042960659541,
           0.003862912484692637,
           0.03363660036270093,
           -0.368308185990411,
           -0.639774163701663,
           -0.13187007637093337,
           0.7556485314044019,
           -0.5894216033197373,
           0.07807820800413977,
           -0.5828538780525295,
           0.26657192317300105,
           0.1430986881494961,
           1.3230999944911481,
           0.4570359559220247,
           -0.39020060354777,
           0.39792642851715526,
           0.3902640823720796,
           0.05640471462235432,
           -0.7404792844655146,
           -0.6003678120984167,
           -0.07429301819507912,
           -0.23695368064625674,
           -0.30263093331833385,
           -0.5426243715491266,
           1.0340325130637793,
           -0.3989575705707136,
           -0.8805907568326123,
           0.1481339441876887
          ],
          "coloraxis": "coloraxis",
          "symbol": "circle"
         },
         "mode": "markers",
         "name": "",
         "orientation": "v",
         "showlegend": false,
         "type": "scatter",
         "x": [
          -1.6412464702136982,
          -1.7383978694005955,
          -1.6539435348611324,
          6.891375253892286,
          -1.5295358799630638,
          0.9485841095789487,
          -1.8377231099236206,
          1.070783272167214,
          -2.888345395890787,
          0.6484517879617895,
          -1.6495772649171698,
          -2.2414258076477305,
          1.726420562761434,
          0.7447529466453767,
          -0.7656429204360837,
          1.6380443049675018,
          0.8502427436695243,
          11.985429477980185,
          -2.6833862672178848,
          0.7568675462951676,
          -2.072497648364839,
          -2.8348850344309353,
          -1.9430097728042623,
          -2.5207394979584463,
          1.5649353875352938,
          2.8647175452388782,
          0.9573770181077228,
          -1.9389240628914477,
          -0.2733513194371009,
          -1.0847069276566204,
          2.0868683800462797,
          -0.3104835040303481,
          8.708906103221134,
          -1.5402925919443222,
          2.1463321117642358,
          0.9352004464388698,
          -2.0543692840960834,
          -2.5226496718560876,
          -0.5805112987090754,
          -1.9606285481453958,
          5.152153390772159,
          2.504968304607661,
          -2.2119587448314224,
          3.7854661804754475,
          0.9546869890702991,
          -0.6483888845696427,
          -1.8532524068065832,
          12.049033512163382,
          -1.5893273520633746,
          7.386109429030837,
          -2.2780880483237738,
          -0.590542894885478,
          4.945852045459541,
          -0.484220492601141,
          -2.631979058382682,
          -0.9409485925142766,
          -2.592502863759223,
          -2.624026653713538,
          5.212718756703549,
          2.8217667726213973,
          -1.4388028234568382,
          -0.2188322733363249,
          0.40252465171316887,
          -1.7582882065635683,
          1.1066123948090538,
          2.23392077034372,
          -0.6430909504324902,
          -2.1225868683588986,
          2.6068461602721693,
          0.2571620683946621,
          0.44278261132061514,
          -1.4228764794113749,
          5.335964786116306,
          12.16595740533233,
          -2.04435995008389,
          -1.7847442289548356,
          -2.0676415117119413,
          -0.7849783612703215,
          1.4533668201450356,
          1.4973815005815108,
          -1.3046272897674724,
          -1.7432146796071524,
          -1.8446959317576679,
          -1.491810614033643,
          -2.4735297495651514,
          -1.295001929689139,
          -1.8010534793885133,
          -2.786328455757235,
          -1.526946882685781,
          -0.43566717906149144,
          3.5408719092167726,
          6.711232525377467,
          -2.362953978025065,
          -2.4537090145506393,
          -0.34312915272532224,
          6.3907571105051915,
          -2.8416303229706052,
          -1.8269814350505935,
          -2.521501352470156,
          -1.0208776139283813
         ],
         "xaxis": "x",
         "y": [
          -2.0203065739414394,
          -0.23430422955371175,
          -1.5442500420761605,
          0.7211559776777585,
          0.9261978783831789,
          0.45474932011938846,
          -1.7758673041485664,
          1.1826101883767108,
          -1.5025211851564948,
          -1.0300989634099718,
          -0.08429287260313295,
          -0.27720827288575,
          -0.7952182004564997,
          0.5762809649088717,
          -1.0790313823669697,
          -1.2303903575275077,
          0.8291750767673806,
          -0.8126701574173861,
          -2.4836066158634402,
          0.7767237649739926,
          0.2916788293291224,
          0.819871374952195,
          -1.7932616493867493,
          1.1620457862841895,
          -0.7276191313356345,
          -0.3045241195469274,
          1.187030243392794,
          -0.8225318541795394,
          1.0582148624086067,
          -2.4913941572348137,
          0.6325053723130233,
          0.8061279697893694,
          -3.0940009339214005,
          -1.9906059178548303,
          0.19381160983075596,
          0.8448839795072841,
          -2.6263758385929195,
          -0.6019393235536457,
          -0.5471525838551409,
          0.8352816816439611,
          -0.7310859778297167,
          -1.5983229983329326,
          -0.2679403359684794,
          1.0240416508452042,
          0.22017259774315573,
          0.5890758200566295,
          -0.8253914770467571,
          -1.2112686245082178,
          0.5861148555045664,
          1.5277572827351802,
          -1.4930634765028452,
          -0.20650983183484212,
          1.2891284121702256,
          1.0104680374591006,
          -0.8450363150190909,
          -0.5516882857671551,
          -1.5678609416830382,
          0.04259722418812703,
          0.43883404384337177,
          -0.8672099541540731,
          0.8260123620043264,
          0.9391931339466535,
          2.381093710954936,
          -0.15868301568149829,
          -0.6351456753014977,
          -0.24720701077666044,
          -0.7714691571194191,
          1.068809842746341,
          1.639944092486402,
          -1.4188546705694898,
          0.9729559167089167,
          1.8170490316243122,
          -0.3966355739936448,
          -2.009772882826445,
          -1.3175819281763455,
          -1.0346951112539864,
          -1.999261472391708,
          -0.705773414216176,
          0.8917876708310882,
          -0.2533050469278521,
          0.34201032892731187,
          -2.4120112006237058,
          1.2822326529382053,
          1.0181686279320339,
          1.1955080750385108,
          0.5109383002852395,
          -1.9780246884891504,
          0.4640472169109851,
          0.04882486338291599,
          0.19067127437867776,
          -2.765386066123722,
          -0.6192938654908136,
          -0.34479732290640547,
          -1.1372801302804405,
          0.4800777328220524,
          -1.9542973069001464,
          2.3753647977589543,
          -0.6820820812239676,
          -2.129260638547492,
          0.9900733264592365
         ],
         "yaxis": "y"
        }
       ],
       "layout": {
        "coloraxis": {
         "cmax": 2.6831779506537137,
         "cmin": -0.8805907568326123,
         "colorbar": {
          "title": {
           "text": "Target"
          }
         },
         "colorscale": [
          [
           0,
           "#000004"
          ],
          [
           0.1111111111111111,
           "#1b0c41"
          ],
          [
           0.2222222222222222,
           "#4a0c6b"
          ],
          [
           0.3333333333333333,
           "#781c6d"
          ],
          [
           0.4444444444444444,
           "#a52c60"
          ],
          [
           0.5555555555555556,
           "#cf4446"
          ],
          [
           0.6666666666666666,
           "#ed6925"
          ],
          [
           0.7777777777777778,
           "#fb9b06"
          ],
          [
           0.8888888888888888,
           "#f7d13d"
          ],
          [
           1,
           "#fcffa4"
          ]
         ]
        },
        "legend": {
         "tracegroupgap": 0
        },
        "template": {
         "data": {
          "bar": [
           {
            "error_x": {
             "color": "#2a3f5f"
            },
            "error_y": {
             "color": "#2a3f5f"
            },
            "marker": {
             "line": {
              "color": "#E5ECF6",
              "width": 0.5
             },
             "pattern": {
              "fillmode": "overlay",
              "size": 10,
              "solidity": 0.2
             }
            },
            "type": "bar"
           }
          ],
          "barpolar": [
           {
            "marker": {
             "line": {
              "color": "#E5ECF6",
              "width": 0.5
             },
             "pattern": {
              "fillmode": "overlay",
              "size": 10,
              "solidity": 0.2
             }
            },
            "type": "barpolar"
           }
          ],
          "carpet": [
           {
            "aaxis": {
             "endlinecolor": "#2a3f5f",
             "gridcolor": "white",
             "linecolor": "white",
             "minorgridcolor": "white",
             "startlinecolor": "#2a3f5f"
            },
            "baxis": {
             "endlinecolor": "#2a3f5f",
             "gridcolor": "white",
             "linecolor": "white",
             "minorgridcolor": "white",
             "startlinecolor": "#2a3f5f"
            },
            "type": "carpet"
           }
          ],
          "choropleth": [
           {
            "colorbar": {
             "outlinewidth": 0,
             "ticks": ""
            },
            "type": "choropleth"
           }
          ],
          "contour": [
           {
            "colorbar": {
             "outlinewidth": 0,
             "ticks": ""
            },
            "colorscale": [
             [
              0,
              "#0d0887"
             ],
             [
              0.1111111111111111,
              "#46039f"
             ],
             [
              0.2222222222222222,
              "#7201a8"
             ],
             [
              0.3333333333333333,
              "#9c179e"
             ],
             [
              0.4444444444444444,
              "#bd3786"
             ],
             [
              0.5555555555555556,
              "#d8576b"
             ],
             [
              0.6666666666666666,
              "#ed7953"
             ],
             [
              0.7777777777777778,
              "#fb9f3a"
             ],
             [
              0.8888888888888888,
              "#fdca26"
             ],
             [
              1,
              "#f0f921"
             ]
            ],
            "type": "contour"
           }
          ],
          "contourcarpet": [
           {
            "colorbar": {
             "outlinewidth": 0,
             "ticks": ""
            },
            "type": "contourcarpet"
           }
          ],
          "heatmap": [
           {
            "colorbar": {
             "outlinewidth": 0,
             "ticks": ""
            },
            "colorscale": [
             [
              0,
              "#0d0887"
             ],
             [
              0.1111111111111111,
              "#46039f"
             ],
             [
              0.2222222222222222,
              "#7201a8"
             ],
             [
              0.3333333333333333,
              "#9c179e"
             ],
             [
              0.4444444444444444,
              "#bd3786"
             ],
             [
              0.5555555555555556,
              "#d8576b"
             ],
             [
              0.6666666666666666,
              "#ed7953"
             ],
             [
              0.7777777777777778,
              "#fb9f3a"
             ],
             [
              0.8888888888888888,
              "#fdca26"
             ],
             [
              1,
              "#f0f921"
             ]
            ],
            "type": "heatmap"
           }
          ],
          "heatmapgl": [
           {
            "colorbar": {
             "outlinewidth": 0,
             "ticks": ""
            },
            "colorscale": [
             [
              0,
              "#0d0887"
             ],
             [
              0.1111111111111111,
              "#46039f"
             ],
             [
              0.2222222222222222,
              "#7201a8"
             ],
             [
              0.3333333333333333,
              "#9c179e"
             ],
             [
              0.4444444444444444,
              "#bd3786"
             ],
             [
              0.5555555555555556,
              "#d8576b"
             ],
             [
              0.6666666666666666,
              "#ed7953"
             ],
             [
              0.7777777777777778,
              "#fb9f3a"
             ],
             [
              0.8888888888888888,
              "#fdca26"
             ],
             [
              1,
              "#f0f921"
             ]
            ],
            "type": "heatmapgl"
           }
          ],
          "histogram": [
           {
            "marker": {
             "pattern": {
              "fillmode": "overlay",
              "size": 10,
              "solidity": 0.2
             }
            },
            "type": "histogram"
           }
          ],
          "histogram2d": [
           {
            "colorbar": {
             "outlinewidth": 0,
             "ticks": ""
            },
            "colorscale": [
             [
              0,
              "#0d0887"
             ],
             [
              0.1111111111111111,
              "#46039f"
             ],
             [
              0.2222222222222222,
              "#7201a8"
             ],
             [
              0.3333333333333333,
              "#9c179e"
             ],
             [
              0.4444444444444444,
              "#bd3786"
             ],
             [
              0.5555555555555556,
              "#d8576b"
             ],
             [
              0.6666666666666666,
              "#ed7953"
             ],
             [
              0.7777777777777778,
              "#fb9f3a"
             ],
             [
              0.8888888888888888,
              "#fdca26"
             ],
             [
              1,
              "#f0f921"
             ]
            ],
            "type": "histogram2d"
           }
          ],
          "histogram2dcontour": [
           {
            "colorbar": {
             "outlinewidth": 0,
             "ticks": ""
            },
            "colorscale": [
             [
              0,
              "#0d0887"
             ],
             [
              0.1111111111111111,
              "#46039f"
             ],
             [
              0.2222222222222222,
              "#7201a8"
             ],
             [
              0.3333333333333333,
              "#9c179e"
             ],
             [
              0.4444444444444444,
              "#bd3786"
             ],
             [
              0.5555555555555556,
              "#d8576b"
             ],
             [
              0.6666666666666666,
              "#ed7953"
             ],
             [
              0.7777777777777778,
              "#fb9f3a"
             ],
             [
              0.8888888888888888,
              "#fdca26"
             ],
             [
              1,
              "#f0f921"
             ]
            ],
            "type": "histogram2dcontour"
           }
          ],
          "mesh3d": [
           {
            "colorbar": {
             "outlinewidth": 0,
             "ticks": ""
            },
            "type": "mesh3d"
           }
          ],
          "parcoords": [
           {
            "line": {
             "colorbar": {
              "outlinewidth": 0,
              "ticks": ""
             }
            },
            "type": "parcoords"
           }
          ],
          "pie": [
           {
            "automargin": true,
            "type": "pie"
           }
          ],
          "scatter": [
           {
            "fillpattern": {
             "fillmode": "overlay",
             "size": 10,
             "solidity": 0.2
            },
            "type": "scatter"
           }
          ],
          "scatter3d": [
           {
            "line": {
             "colorbar": {
              "outlinewidth": 0,
              "ticks": ""
             }
            },
            "marker": {
             "colorbar": {
              "outlinewidth": 0,
              "ticks": ""
             }
            },
            "type": "scatter3d"
           }
          ],
          "scattercarpet": [
           {
            "marker": {
             "colorbar": {
              "outlinewidth": 0,
              "ticks": ""
             }
            },
            "type": "scattercarpet"
           }
          ],
          "scattergeo": [
           {
            "marker": {
             "colorbar": {
              "outlinewidth": 0,
              "ticks": ""
             }
            },
            "type": "scattergeo"
           }
          ],
          "scattergl": [
           {
            "marker": {
             "colorbar": {
              "outlinewidth": 0,
              "ticks": ""
             }
            },
            "type": "scattergl"
           }
          ],
          "scattermapbox": [
           {
            "marker": {
             "colorbar": {
              "outlinewidth": 0,
              "ticks": ""
             }
            },
            "type": "scattermapbox"
           }
          ],
          "scatterpolar": [
           {
            "marker": {
             "colorbar": {
              "outlinewidth": 0,
              "ticks": ""
             }
            },
            "type": "scatterpolar"
           }
          ],
          "scatterpolargl": [
           {
            "marker": {
             "colorbar": {
              "outlinewidth": 0,
              "ticks": ""
             }
            },
            "type": "scatterpolargl"
           }
          ],
          "scatterternary": [
           {
            "marker": {
             "colorbar": {
              "outlinewidth": 0,
              "ticks": ""
             }
            },
            "type": "scatterternary"
           }
          ],
          "surface": [
           {
            "colorbar": {
             "outlinewidth": 0,
             "ticks": ""
            },
            "colorscale": [
             [
              0,
              "#0d0887"
             ],
             [
              0.1111111111111111,
              "#46039f"
             ],
             [
              0.2222222222222222,
              "#7201a8"
             ],
             [
              0.3333333333333333,
              "#9c179e"
             ],
             [
              0.4444444444444444,
              "#bd3786"
             ],
             [
              0.5555555555555556,
              "#d8576b"
             ],
             [
              0.6666666666666666,
              "#ed7953"
             ],
             [
              0.7777777777777778,
              "#fb9f3a"
             ],
             [
              0.8888888888888888,
              "#fdca26"
             ],
             [
              1,
              "#f0f921"
             ]
            ],
            "type": "surface"
           }
          ],
          "table": [
           {
            "cells": {
             "fill": {
              "color": "#EBF0F8"
             },
             "line": {
              "color": "white"
             }
            },
            "header": {
             "fill": {
              "color": "#C8D4E3"
             },
             "line": {
              "color": "white"
             }
            },
            "type": "table"
           }
          ]
         },
         "layout": {
          "annotationdefaults": {
           "arrowcolor": "#2a3f5f",
           "arrowhead": 0,
           "arrowwidth": 1
          },
          "autotypenumbers": "strict",
          "coloraxis": {
           "colorbar": {
            "outlinewidth": 0,
            "ticks": ""
           }
          },
          "colorscale": {
           "diverging": [
            [
             0,
             "#8e0152"
            ],
            [
             0.1,
             "#c51b7d"
            ],
            [
             0.2,
             "#de77ae"
            ],
            [
             0.3,
             "#f1b6da"
            ],
            [
             0.4,
             "#fde0ef"
            ],
            [
             0.5,
             "#f7f7f7"
            ],
            [
             0.6,
             "#e6f5d0"
            ],
            [
             0.7,
             "#b8e186"
            ],
            [
             0.8,
             "#7fbc41"
            ],
            [
             0.9,
             "#4d9221"
            ],
            [
             1,
             "#276419"
            ]
           ],
           "sequential": [
            [
             0,
             "#0d0887"
            ],
            [
             0.1111111111111111,
             "#46039f"
            ],
            [
             0.2222222222222222,
             "#7201a8"
            ],
            [
             0.3333333333333333,
             "#9c179e"
            ],
            [
             0.4444444444444444,
             "#bd3786"
            ],
            [
             0.5555555555555556,
             "#d8576b"
            ],
            [
             0.6666666666666666,
             "#ed7953"
            ],
            [
             0.7777777777777778,
             "#fb9f3a"
            ],
            [
             0.8888888888888888,
             "#fdca26"
            ],
            [
             1,
             "#f0f921"
            ]
           ],
           "sequentialminus": [
            [
             0,
             "#0d0887"
            ],
            [
             0.1111111111111111,
             "#46039f"
            ],
            [
             0.2222222222222222,
             "#7201a8"
            ],
            [
             0.3333333333333333,
             "#9c179e"
            ],
            [
             0.4444444444444444,
             "#bd3786"
            ],
            [
             0.5555555555555556,
             "#d8576b"
            ],
            [
             0.6666666666666666,
             "#ed7953"
            ],
            [
             0.7777777777777778,
             "#fb9f3a"
            ],
            [
             0.8888888888888888,
             "#fdca26"
            ],
            [
             1,
             "#f0f921"
            ]
           ]
          },
          "colorway": [
           "#636efa",
           "#EF553B",
           "#00cc96",
           "#ab63fa",
           "#FFA15A",
           "#19d3f3",
           "#FF6692",
           "#B6E880",
           "#FF97FF",
           "#FECB52"
          ],
          "font": {
           "color": "#2a3f5f"
          },
          "geo": {
           "bgcolor": "white",
           "lakecolor": "white",
           "landcolor": "#E5ECF6",
           "showlakes": true,
           "showland": true,
           "subunitcolor": "white"
          },
          "hoverlabel": {
           "align": "left"
          },
          "hovermode": "closest",
          "mapbox": {
           "style": "light"
          },
          "paper_bgcolor": "white",
          "plot_bgcolor": "#E5ECF6",
          "polar": {
           "angularaxis": {
            "gridcolor": "white",
            "linecolor": "white",
            "ticks": ""
           },
           "bgcolor": "#E5ECF6",
           "radialaxis": {
            "gridcolor": "white",
            "linecolor": "white",
            "ticks": ""
           }
          },
          "scene": {
           "xaxis": {
            "backgroundcolor": "#E5ECF6",
            "gridcolor": "white",
            "gridwidth": 2,
            "linecolor": "white",
            "showbackground": true,
            "ticks": "",
            "zerolinecolor": "white"
           },
           "yaxis": {
            "backgroundcolor": "#E5ECF6",
            "gridcolor": "white",
            "gridwidth": 2,
            "linecolor": "white",
            "showbackground": true,
            "ticks": "",
            "zerolinecolor": "white"
           },
           "zaxis": {
            "backgroundcolor": "#E5ECF6",
            "gridcolor": "white",
            "gridwidth": 2,
            "linecolor": "white",
            "showbackground": true,
            "ticks": "",
            "zerolinecolor": "white"
           }
          },
          "shapedefaults": {
           "line": {
            "color": "#2a3f5f"
           }
          },
          "ternary": {
           "aaxis": {
            "gridcolor": "white",
            "linecolor": "white",
            "ticks": ""
           },
           "baxis": {
            "gridcolor": "white",
            "linecolor": "white",
            "ticks": ""
           },
           "bgcolor": "#E5ECF6",
           "caxis": {
            "gridcolor": "white",
            "linecolor": "white",
            "ticks": ""
           }
          },
          "title": {
           "x": 0.05
          },
          "xaxis": {
           "automargin": true,
           "gridcolor": "white",
           "linecolor": "white",
           "ticks": "",
           "title": {
            "standoff": 15
           },
           "zerolinecolor": "white",
           "zerolinewidth": 2
          },
          "yaxis": {
           "automargin": true,
           "gridcolor": "white",
           "linecolor": "white",
           "ticks": "",
           "title": {
            "standoff": 15
           },
           "zerolinecolor": "white",
           "zerolinewidth": 2
          }
         }
        },
        "title": {
         "text": "PCA Scores Plot"
        },
        "xaxis": {
         "anchor": "y",
         "domain": [
          0,
          1
         ],
         "title": {
          "text": "PC1"
         }
        },
        "yaxis": {
         "anchor": "x",
         "domain": [
          0,
          1
         ],
         "title": {
          "text": "PC2"
         }
        }
       }
      }
     },
     "metadata": {},
     "output_type": "display_data"
    },
    {
     "data": {
      "application/vnd.plotly.v1+json": {
       "config": {
        "plotlyServerURL": "https://plot.ly"
       },
       "data": [
        {
         "hoverinfo": "text",
         "line": {
          "width": 2
         },
         "mode": "lines",
         "showlegend": false,
         "text": [
          null,
          "surface_reelle_bati"
         ],
         "type": "scatter",
         "x": [
          0,
          -0.08808601489355072
         ],
         "y": [
          0,
          0.5620648908881116
         ]
        },
        {
         "hoverinfo": "text",
         "line": {
          "width": 2
         },
         "mode": "lines",
         "showlegend": false,
         "text": [
          null,
          "surface_terrain"
         ],
         "type": "scatter",
         "x": [
          0,
          -0.06190396799254895
         ],
         "y": [
          0,
          0.19207607713525987
         ]
        },
        {
         "hoverinfo": "text",
         "line": {
          "width": 2
         },
         "mode": "lines",
         "showlegend": false,
         "text": [
          null,
          "nombre_pieces_principales"
         ],
         "type": "scatter",
         "x": [
          0,
          -0.07818350234835948
         ],
         "y": [
          0,
          0.5873695626892306
         ]
        },
        {
         "hoverinfo": "text",
         "line": {
          "width": 2
         },
         "mode": "lines",
         "showlegend": false,
         "text": [
          null,
          "longitude"
         ],
         "type": "scatter",
         "x": [
          0,
          -0.017112178490830406
         ],
         "y": [
          0,
          -0.17404033096880578
         ]
        },
        {
         "hoverinfo": "text",
         "line": {
          "width": 2
         },
         "mode": "lines",
         "showlegend": false,
         "text": [
          null,
          "latitude"
         ],
         "type": "scatter",
         "x": [
          0,
          -0.01826948320668055
         ],
         "y": [
          0,
          -0.16801432453801293
         ]
        },
        {
         "hoverinfo": "text",
         "line": {
          "width": 2
         },
         "mode": "lines",
         "showlegend": false,
         "text": [
          null,
          "carreau_Ind"
         ],
         "type": "scatter",
         "x": [
          0,
          0.31704609120987076
         ],
         "y": [
          0,
          0.048275203970184005
         ]
        },
        {
         "hoverinfo": "text",
         "line": {
          "width": 2
         },
         "mode": "lines",
         "showlegend": false,
         "text": [
          null,
          "carreau_Men"
         ],
         "type": "scatter",
         "x": [
          0,
          0.3166586077703196
         ],
         "y": [
          0,
          -0.008492934211838443
         ]
        },
        {
         "hoverinfo": "text",
         "line": {
          "width": 2
         },
         "mode": "lines",
         "showlegend": false,
         "text": [
          null,
          "carreau_Men_pauv"
         ],
         "type": "scatter",
         "x": [
          0,
          0.2959143768397536
         ],
         "y": [
          0,
          -0.09290560381437303
         ]
        },
        {
         "hoverinfo": "text",
         "line": {
          "width": 2
         },
         "mode": "lines",
         "showlegend": false,
         "text": [
          null,
          "carreau_Men_prop"
         ],
         "type": "scatter",
         "x": [
          0,
          0.29599259013032553
         ],
         "y": [
          0,
          0.1323995192499281
         ]
        },
        {
         "hoverinfo": "text",
         "line": {
          "width": 2
         },
         "mode": "lines",
         "showlegend": false,
         "text": [
          null,
          "carreau_Ind_snv"
         ],
         "type": "scatter",
         "x": [
          0,
          0.3105709970681883
         ],
         "y": [
          0,
          0.049158166308334056
         ]
        },
        {
         "hoverinfo": "text",
         "line": {
          "width": 2
         },
         "mode": "lines",
         "showlegend": false,
         "text": [
          null,
          "carreau_Men_surf"
         ],
         "type": "scatter",
         "x": [
          0,
          0.3141406354231463
         ],
         "y": [
          0,
          0.054939718998013976
         ]
        },
        {
         "hoverinfo": "text",
         "line": {
          "width": 2
         },
         "mode": "lines",
         "showlegend": false,
         "text": [
          null,
          "carreau_Men_coll"
         ],
         "type": "scatter",
         "x": [
          0,
          0.29947816083136747
         ],
         "y": [
          0,
          -0.11578330277169638
         ]
        },
        {
         "hoverinfo": "text",
         "line": {
          "width": 2
         },
         "mode": "lines",
         "showlegend": false,
         "text": [
          null,
          "carreau_Men_mais"
         ],
         "type": "scatter",
         "x": [
          0,
          0.1568132849859447
         ],
         "y": [
          0,
          0.3606830145223673
         ]
        },
        {
         "hoverinfo": "text",
         "line": {
          "width": 2
         },
         "mode": "lines",
         "showlegend": false,
         "text": [
          null,
          "carreau_Log_av45"
         ],
         "type": "scatter",
         "x": [
          0,
          0.207888001595906
         ],
         "y": [
          0,
          -0.18203247365171252
         ]
        },
        {
         "hoverinfo": "text",
         "line": {
          "width": 2
         },
         "mode": "lines",
         "showlegend": false,
         "text": [
          null,
          "carreau_Log_45_70"
         ],
         "type": "scatter",
         "x": [
          0,
          0.2413056342925856
         ],
         "y": [
          0,
          -0.00207834023273909
         ]
        },
        {
         "hoverinfo": "text",
         "line": {
          "width": 2
         },
         "mode": "lines",
         "showlegend": false,
         "text": [
          null,
          "carreau_Log_70_90"
         ],
         "type": "scatter",
         "x": [
          0,
          0.23739986703058202
         ],
         "y": [
          0,
          0.16260668139450896
         ]
        },
        {
         "hoverinfo": "text",
         "line": {
          "width": 2
         },
         "mode": "lines",
         "showlegend": false,
         "text": [
          null,
          "carreau_Log_ap90"
         ],
         "type": "scatter",
         "x": [
          0,
          0.2496735435851432
         ],
         "y": [
          0,
          0.07340965047541342
         ]
        },
        {
         "hoverinfo": "text",
         "line": {
          "width": 2
         },
         "mode": "lines",
         "showlegend": false,
         "text": [
          null,
          "carreau_Log_inc"
         ],
         "type": "scatter",
         "x": [
          0,
          0.16018643803610583
         ],
         "y": [
          0,
          -0.017347087137153314
         ]
        },
        {
         "hoverinfo": "text",
         "line": {
          "width": 2
         },
         "mode": "lines",
         "showlegend": false,
         "text": [
          null,
          "carreau_Log_soc"
         ],
         "type": "scatter",
         "x": [
          0,
          0.22468712388574943
         ],
         "y": [
          0,
          0.030006606157427326
         ]
        },
        {
         "line": {
          "color": "grey",
          "dash": "dash"
         },
         "mode": "lines",
         "showlegend": false,
         "type": "scatter",
         "x": [
          1,
          0.9979866764718844,
          0.9919548128307953,
          0.9819286972627067,
          0.9679487013963562,
          0.9500711177409454,
          0.9283679330160726,
          0.9029265382866212,
          0.8738493770697849,
          0.8412535328311812,
          0.8052702575310586,
          0.766044443118978,
          0.7237340381050702,
          0.6785094115571322,
          0.6305526670845225,
          0.5800569095711982,
          0.5272254676105024,
          0.4722710747726827,
          0.41541501300188644,
          0.3568862215918719,
          0.2969203753282749,
          0.23575893550942728,
          0.17364817766693041,
          0.1108381999010111,
          0.04758191582374218,
          -0.01586596383480803,
          -0.07924995685678854,
          -0.14231483827328523,
          -0.20480666806519074,
          -0.26647381369003503,
          -0.32706796331742166,
          -0.3863451256931287,
          -0.4440666126057741,
          -0.5000000000000002,
          -0.5539200638661103,
          -0.6056096871376668,
          -0.654860733945285,
          -0.7014748877063214,
          -0.7452644496757547,
          -0.7860530947427875,
          -0.8236765814298327,
          -0.8579834132349771,
          -0.8888354486549234,
          -0.9161084574320696,
          -0.9396926207859083,
          -0.9594929736144974,
          -0.975429786885407,
          -0.9874388886763943,
          -0.9954719225730846,
          -0.9994965423831851,
          -0.9994965423831851,
          -0.9954719225730846,
          -0.9874388886763943,
          -0.975429786885407,
          -0.9594929736144974,
          -0.9396926207859084,
          -0.9161084574320696,
          -0.8888354486549235,
          -0.857983413234977,
          -0.8236765814298328,
          -0.7860530947427874,
          -0.7452644496757548,
          -0.7014748877063213,
          -0.6548607339452852,
          -0.6056096871376666,
          -0.5539200638661105,
          -0.4999999999999996,
          -0.44406661260577396,
          -0.3863451256931287,
          -0.3270679633174219,
          -0.26647381369003464,
          -0.20480666806519054,
          -0.14231483827328523,
          -0.07924995685678879,
          -0.01586596383480761,
          0.04758191582374238,
          0.11083819990101086,
          0.17364817766692997,
          0.23575893550942748,
          0.2969203753282749,
          0.35688622159187167,
          0.4154150130018868,
          0.4722710747726829,
          0.5272254676105024,
          0.5800569095711979,
          0.6305526670845228,
          0.6785094115571323,
          0.7237340381050701,
          0.7660444431189778,
          0.8052702575310587,
          0.8412535328311812,
          0.8738493770697848,
          0.9029265382866211,
          0.9283679330160727,
          0.9500711177409454,
          0.9679487013963562,
          0.9819286972627068,
          0.9919548128307953,
          0.9979866764718844,
          1
         ],
         "y": [
          0,
          0.0634239196565645,
          0.12659245357374926,
          0.18925124436041021,
          0.2511479871810792,
          0.3120334456984871,
          0.3716624556603276,
          0.42979491208917164,
          0.4861967361004687,
          0.5406408174555976,
          0.5929079290546404,
          0.6427876096865393,
          0.690079011482112,
          0.7345917086575333,
          0.7761464642917568,
          0.8145759520503357,
          0.8497254299495144,
          0.8814533634475821,
          0.9096319953545183,
          0.9341478602651067,
          0.9549022414440739,
          0.9718115683235417,
          0.984807753012208,
          0.9938384644612541,
          0.998867339183008,
          0.9998741276738751,
          0.9968547759519424,
          0.9898214418809327,
          0.9788024462147787,
          0.963842158559942,
          0.9450008187146685,
          0.9223542941045814,
          0.8959937742913359,
          0.8660254037844386,
          0.8325698546347714,
          0.795761840530832,
          0.7557495743542583,
          0.7126941713788627,
          0.6667690005162916,
          0.6181589862206052,
          0.5670598638627709,
          0.5136773915734063,
          0.4582265217274105,
          0.4009305354066136,
          0.3420201433256689,
          0.28173255684142967,
          0.2203105327865408,
          0.1580013959733499,
          0.09505604330418244,
          0.031727933498067656,
          -0.03172793349806786,
          -0.09505604330418263,
          -0.15800139597335008,
          -0.22031053278654056,
          -0.28173255684142984,
          -0.34202014332566866,
          -0.4009305354066138,
          -0.4582265217274103,
          -0.5136773915734064,
          -0.5670598638627706,
          -0.6181589862206053,
          -0.6667690005162915,
          -0.7126941713788629,
          -0.7557495743542582,
          -0.7957618405308321,
          -0.8325698546347713,
          -0.8660254037844388,
          -0.895993774291336,
          -0.9223542941045814,
          -0.9450008187146683,
          -0.9638421585599422,
          -0.9788024462147787,
          -0.9898214418809327,
          -0.9968547759519423,
          -0.9998741276738751,
          -0.998867339183008,
          -0.9938384644612541,
          -0.9848077530122081,
          -0.9718115683235417,
          -0.9549022414440739,
          -0.9341478602651068,
          -0.9096319953545182,
          -0.881453363447582,
          -0.8497254299495144,
          -0.8145759520503358,
          -0.7761464642917566,
          -0.7345917086575331,
          -0.690079011482112,
          -0.6427876096865396,
          -0.5929079290546402,
          -0.5406408174555974,
          -0.4861967361004688,
          -0.4297949120891719,
          -0.37166245566032724,
          -0.31203344569848707,
          -0.2511479871810794,
          -0.18925124436040974,
          -0.12659245357374904,
          -0.06342391965656452,
          -2.4492935982947064e-16
         ]
        }
       ],
       "layout": {
        "height": 800,
        "hovermode": "closest",
        "template": {
         "data": {
          "bar": [
           {
            "error_x": {
             "color": "#2a3f5f"
            },
            "error_y": {
             "color": "#2a3f5f"
            },
            "marker": {
             "line": {
              "color": "#E5ECF6",
              "width": 0.5
             },
             "pattern": {
              "fillmode": "overlay",
              "size": 10,
              "solidity": 0.2
             }
            },
            "type": "bar"
           }
          ],
          "barpolar": [
           {
            "marker": {
             "line": {
              "color": "#E5ECF6",
              "width": 0.5
             },
             "pattern": {
              "fillmode": "overlay",
              "size": 10,
              "solidity": 0.2
             }
            },
            "type": "barpolar"
           }
          ],
          "carpet": [
           {
            "aaxis": {
             "endlinecolor": "#2a3f5f",
             "gridcolor": "white",
             "linecolor": "white",
             "minorgridcolor": "white",
             "startlinecolor": "#2a3f5f"
            },
            "baxis": {
             "endlinecolor": "#2a3f5f",
             "gridcolor": "white",
             "linecolor": "white",
             "minorgridcolor": "white",
             "startlinecolor": "#2a3f5f"
            },
            "type": "carpet"
           }
          ],
          "choropleth": [
           {
            "colorbar": {
             "outlinewidth": 0,
             "ticks": ""
            },
            "type": "choropleth"
           }
          ],
          "contour": [
           {
            "colorbar": {
             "outlinewidth": 0,
             "ticks": ""
            },
            "colorscale": [
             [
              0,
              "#0d0887"
             ],
             [
              0.1111111111111111,
              "#46039f"
             ],
             [
              0.2222222222222222,
              "#7201a8"
             ],
             [
              0.3333333333333333,
              "#9c179e"
             ],
             [
              0.4444444444444444,
              "#bd3786"
             ],
             [
              0.5555555555555556,
              "#d8576b"
             ],
             [
              0.6666666666666666,
              "#ed7953"
             ],
             [
              0.7777777777777778,
              "#fb9f3a"
             ],
             [
              0.8888888888888888,
              "#fdca26"
             ],
             [
              1,
              "#f0f921"
             ]
            ],
            "type": "contour"
           }
          ],
          "contourcarpet": [
           {
            "colorbar": {
             "outlinewidth": 0,
             "ticks": ""
            },
            "type": "contourcarpet"
           }
          ],
          "heatmap": [
           {
            "colorbar": {
             "outlinewidth": 0,
             "ticks": ""
            },
            "colorscale": [
             [
              0,
              "#0d0887"
             ],
             [
              0.1111111111111111,
              "#46039f"
             ],
             [
              0.2222222222222222,
              "#7201a8"
             ],
             [
              0.3333333333333333,
              "#9c179e"
             ],
             [
              0.4444444444444444,
              "#bd3786"
             ],
             [
              0.5555555555555556,
              "#d8576b"
             ],
             [
              0.6666666666666666,
              "#ed7953"
             ],
             [
              0.7777777777777778,
              "#fb9f3a"
             ],
             [
              0.8888888888888888,
              "#fdca26"
             ],
             [
              1,
              "#f0f921"
             ]
            ],
            "type": "heatmap"
           }
          ],
          "heatmapgl": [
           {
            "colorbar": {
             "outlinewidth": 0,
             "ticks": ""
            },
            "colorscale": [
             [
              0,
              "#0d0887"
             ],
             [
              0.1111111111111111,
              "#46039f"
             ],
             [
              0.2222222222222222,
              "#7201a8"
             ],
             [
              0.3333333333333333,
              "#9c179e"
             ],
             [
              0.4444444444444444,
              "#bd3786"
             ],
             [
              0.5555555555555556,
              "#d8576b"
             ],
             [
              0.6666666666666666,
              "#ed7953"
             ],
             [
              0.7777777777777778,
              "#fb9f3a"
             ],
             [
              0.8888888888888888,
              "#fdca26"
             ],
             [
              1,
              "#f0f921"
             ]
            ],
            "type": "heatmapgl"
           }
          ],
          "histogram": [
           {
            "marker": {
             "pattern": {
              "fillmode": "overlay",
              "size": 10,
              "solidity": 0.2
             }
            },
            "type": "histogram"
           }
          ],
          "histogram2d": [
           {
            "colorbar": {
             "outlinewidth": 0,
             "ticks": ""
            },
            "colorscale": [
             [
              0,
              "#0d0887"
             ],
             [
              0.1111111111111111,
              "#46039f"
             ],
             [
              0.2222222222222222,
              "#7201a8"
             ],
             [
              0.3333333333333333,
              "#9c179e"
             ],
             [
              0.4444444444444444,
              "#bd3786"
             ],
             [
              0.5555555555555556,
              "#d8576b"
             ],
             [
              0.6666666666666666,
              "#ed7953"
             ],
             [
              0.7777777777777778,
              "#fb9f3a"
             ],
             [
              0.8888888888888888,
              "#fdca26"
             ],
             [
              1,
              "#f0f921"
             ]
            ],
            "type": "histogram2d"
           }
          ],
          "histogram2dcontour": [
           {
            "colorbar": {
             "outlinewidth": 0,
             "ticks": ""
            },
            "colorscale": [
             [
              0,
              "#0d0887"
             ],
             [
              0.1111111111111111,
              "#46039f"
             ],
             [
              0.2222222222222222,
              "#7201a8"
             ],
             [
              0.3333333333333333,
              "#9c179e"
             ],
             [
              0.4444444444444444,
              "#bd3786"
             ],
             [
              0.5555555555555556,
              "#d8576b"
             ],
             [
              0.6666666666666666,
              "#ed7953"
             ],
             [
              0.7777777777777778,
              "#fb9f3a"
             ],
             [
              0.8888888888888888,
              "#fdca26"
             ],
             [
              1,
              "#f0f921"
             ]
            ],
            "type": "histogram2dcontour"
           }
          ],
          "mesh3d": [
           {
            "colorbar": {
             "outlinewidth": 0,
             "ticks": ""
            },
            "type": "mesh3d"
           }
          ],
          "parcoords": [
           {
            "line": {
             "colorbar": {
              "outlinewidth": 0,
              "ticks": ""
             }
            },
            "type": "parcoords"
           }
          ],
          "pie": [
           {
            "automargin": true,
            "type": "pie"
           }
          ],
          "scatter": [
           {
            "fillpattern": {
             "fillmode": "overlay",
             "size": 10,
             "solidity": 0.2
            },
            "type": "scatter"
           }
          ],
          "scatter3d": [
           {
            "line": {
             "colorbar": {
              "outlinewidth": 0,
              "ticks": ""
             }
            },
            "marker": {
             "colorbar": {
              "outlinewidth": 0,
              "ticks": ""
             }
            },
            "type": "scatter3d"
           }
          ],
          "scattercarpet": [
           {
            "marker": {
             "colorbar": {
              "outlinewidth": 0,
              "ticks": ""
             }
            },
            "type": "scattercarpet"
           }
          ],
          "scattergeo": [
           {
            "marker": {
             "colorbar": {
              "outlinewidth": 0,
              "ticks": ""
             }
            },
            "type": "scattergeo"
           }
          ],
          "scattergl": [
           {
            "marker": {
             "colorbar": {
              "outlinewidth": 0,
              "ticks": ""
             }
            },
            "type": "scattergl"
           }
          ],
          "scattermapbox": [
           {
            "marker": {
             "colorbar": {
              "outlinewidth": 0,
              "ticks": ""
             }
            },
            "type": "scattermapbox"
           }
          ],
          "scatterpolar": [
           {
            "marker": {
             "colorbar": {
              "outlinewidth": 0,
              "ticks": ""
             }
            },
            "type": "scatterpolar"
           }
          ],
          "scatterpolargl": [
           {
            "marker": {
             "colorbar": {
              "outlinewidth": 0,
              "ticks": ""
             }
            },
            "type": "scatterpolargl"
           }
          ],
          "scatterternary": [
           {
            "marker": {
             "colorbar": {
              "outlinewidth": 0,
              "ticks": ""
             }
            },
            "type": "scatterternary"
           }
          ],
          "surface": [
           {
            "colorbar": {
             "outlinewidth": 0,
             "ticks": ""
            },
            "colorscale": [
             [
              0,
              "#0d0887"
             ],
             [
              0.1111111111111111,
              "#46039f"
             ],
             [
              0.2222222222222222,
              "#7201a8"
             ],
             [
              0.3333333333333333,
              "#9c179e"
             ],
             [
              0.4444444444444444,
              "#bd3786"
             ],
             [
              0.5555555555555556,
              "#d8576b"
             ],
             [
              0.6666666666666666,
              "#ed7953"
             ],
             [
              0.7777777777777778,
              "#fb9f3a"
             ],
             [
              0.8888888888888888,
              "#fdca26"
             ],
             [
              1,
              "#f0f921"
             ]
            ],
            "type": "surface"
           }
          ],
          "table": [
           {
            "cells": {
             "fill": {
              "color": "#EBF0F8"
             },
             "line": {
              "color": "white"
             }
            },
            "header": {
             "fill": {
              "color": "#C8D4E3"
             },
             "line": {
              "color": "white"
             }
            },
            "type": "table"
           }
          ]
         },
         "layout": {
          "annotationdefaults": {
           "arrowcolor": "#2a3f5f",
           "arrowhead": 0,
           "arrowwidth": 1
          },
          "autotypenumbers": "strict",
          "coloraxis": {
           "colorbar": {
            "outlinewidth": 0,
            "ticks": ""
           }
          },
          "colorscale": {
           "diverging": [
            [
             0,
             "#8e0152"
            ],
            [
             0.1,
             "#c51b7d"
            ],
            [
             0.2,
             "#de77ae"
            ],
            [
             0.3,
             "#f1b6da"
            ],
            [
             0.4,
             "#fde0ef"
            ],
            [
             0.5,
             "#f7f7f7"
            ],
            [
             0.6,
             "#e6f5d0"
            ],
            [
             0.7,
             "#b8e186"
            ],
            [
             0.8,
             "#7fbc41"
            ],
            [
             0.9,
             "#4d9221"
            ],
            [
             1,
             "#276419"
            ]
           ],
           "sequential": [
            [
             0,
             "#0d0887"
            ],
            [
             0.1111111111111111,
             "#46039f"
            ],
            [
             0.2222222222222222,
             "#7201a8"
            ],
            [
             0.3333333333333333,
             "#9c179e"
            ],
            [
             0.4444444444444444,
             "#bd3786"
            ],
            [
             0.5555555555555556,
             "#d8576b"
            ],
            [
             0.6666666666666666,
             "#ed7953"
            ],
            [
             0.7777777777777778,
             "#fb9f3a"
            ],
            [
             0.8888888888888888,
             "#fdca26"
            ],
            [
             1,
             "#f0f921"
            ]
           ],
           "sequentialminus": [
            [
             0,
             "#0d0887"
            ],
            [
             0.1111111111111111,
             "#46039f"
            ],
            [
             0.2222222222222222,
             "#7201a8"
            ],
            [
             0.3333333333333333,
             "#9c179e"
            ],
            [
             0.4444444444444444,
             "#bd3786"
            ],
            [
             0.5555555555555556,
             "#d8576b"
            ],
            [
             0.6666666666666666,
             "#ed7953"
            ],
            [
             0.7777777777777778,
             "#fb9f3a"
            ],
            [
             0.8888888888888888,
             "#fdca26"
            ],
            [
             1,
             "#f0f921"
            ]
           ]
          },
          "colorway": [
           "#636efa",
           "#EF553B",
           "#00cc96",
           "#ab63fa",
           "#FFA15A",
           "#19d3f3",
           "#FF6692",
           "#B6E880",
           "#FF97FF",
           "#FECB52"
          ],
          "font": {
           "color": "#2a3f5f"
          },
          "geo": {
           "bgcolor": "white",
           "lakecolor": "white",
           "landcolor": "#E5ECF6",
           "showlakes": true,
           "showland": true,
           "subunitcolor": "white"
          },
          "hoverlabel": {
           "align": "left"
          },
          "hovermode": "closest",
          "mapbox": {
           "style": "light"
          },
          "paper_bgcolor": "white",
          "plot_bgcolor": "#E5ECF6",
          "polar": {
           "angularaxis": {
            "gridcolor": "white",
            "linecolor": "white",
            "ticks": ""
           },
           "bgcolor": "#E5ECF6",
           "radialaxis": {
            "gridcolor": "white",
            "linecolor": "white",
            "ticks": ""
           }
          },
          "scene": {
           "xaxis": {
            "backgroundcolor": "#E5ECF6",
            "gridcolor": "white",
            "gridwidth": 2,
            "linecolor": "white",
            "showbackground": true,
            "ticks": "",
            "zerolinecolor": "white"
           },
           "yaxis": {
            "backgroundcolor": "#E5ECF6",
            "gridcolor": "white",
            "gridwidth": 2,
            "linecolor": "white",
            "showbackground": true,
            "ticks": "",
            "zerolinecolor": "white"
           },
           "zaxis": {
            "backgroundcolor": "#E5ECF6",
            "gridcolor": "white",
            "gridwidth": 2,
            "linecolor": "white",
            "showbackground": true,
            "ticks": "",
            "zerolinecolor": "white"
           }
          },
          "shapedefaults": {
           "line": {
            "color": "#2a3f5f"
           }
          },
          "ternary": {
           "aaxis": {
            "gridcolor": "white",
            "linecolor": "white",
            "ticks": ""
           },
           "baxis": {
            "gridcolor": "white",
            "linecolor": "white",
            "ticks": ""
           },
           "bgcolor": "#E5ECF6",
           "caxis": {
            "gridcolor": "white",
            "linecolor": "white",
            "ticks": ""
           }
          },
          "title": {
           "x": 0.05
          },
          "xaxis": {
           "automargin": true,
           "gridcolor": "white",
           "linecolor": "white",
           "ticks": "",
           "title": {
            "standoff": 15
           },
           "zerolinecolor": "white",
           "zerolinewidth": 2
          },
          "yaxis": {
           "automargin": true,
           "gridcolor": "white",
           "linecolor": "white",
           "ticks": "",
           "title": {
            "standoff": 15
           },
           "zerolinecolor": "white",
           "zerolinewidth": 2
          }
         }
        },
        "title": {
         "text": "Cercle de Corrélation PCA"
        },
        "width": 800,
        "xaxis": {
         "scaleanchor": "y",
         "scaleratio": 1,
         "title": {
          "text": "PC1"
         }
        },
        "yaxis": {
         "title": {
          "text": "PC2"
         }
        }
       }
      }
     },
     "metadata": {},
     "output_type": "display_data"
    },
    {
     "data": {
      "image/png": "[encoded data removed]",
      "text/plain": [
       "<Figure size 3000x2400 with 8 Axes>"
      ]
     },
     "metadata": {},
     "output_type": "display_data"
    }
   ],
   "source": [
    "# Étape 3: Application de PCA et analyse\n",
    "\n",
    "# Appliquez PCA pour sélectionner le nombre de composants, cette fois sur les données d'entraînement\n",
    "n_components = preprocessor.select_n_components(X_train)\n",
    "# Instanciez PCA avec le nombre de composants déterminé\n",
    "pca = PCA(n_components=n_components)\n",
    "X_train_pca = pca.fit_transform(X_train)\n",
    "\n",
    "pca_analysis = PCAAnalysis(pca.components_, feature_names=X_train.columns, pca=pca)\n",
    "\n",
    "# Affichage des contributions des composants\n",
    "fig, axs = pca_analysis.plot_pca_components_contributions()\n",
    "# Affichage des scores PCA, optionnellement avec 'y_train' pour la coloration\n",
    "pca_analysis.plot_scores(X_train, y_train)\n",
    "# Affichage du cercle de corrélation\n",
    "pca_analysis.plot_correlation_circle()"
   ]
  },
  {
   "cell_type": "code",
   "execution_count": null,
   "metadata": {},
   "outputs": [
    {
     "data": {
      "text/html": [
       "<div>\n",
       "<style scoped>\n",
       "    .dataframe tbody tr th:only-of-type {\n",
       "        vertical-align: middle;\n",
       "    }\n",
       "\n",
       "    .dataframe tbody tr th {\n",
       "        vertical-align: top;\n",
       "    }\n",
       "\n",
       "    .dataframe thead th {\n",
       "        text-align: right;\n",
       "    }\n",
       "</style>\n",
       "<table border=\"1\" class=\"dataframe\">\n",
       "  <thead>\n",
       "    <tr style=\"text-align: right;\">\n",
       "      <th></th>\n",
       "      <th>Percentage of Outliers</th>\n",
       "    </tr>\n",
       "    <tr>\n",
       "      <th>Column</th>\n",
       "      <th></th>\n",
       "    </tr>\n",
       "  </thead>\n",
       "  <tbody>\n",
       "    <tr>\n",
       "      <th>valeur_fonciere</th>\n",
       "      <td>0.667696</td>\n",
       "    </tr>\n",
       "    <tr>\n",
       "      <th>surface_reelle_bati</th>\n",
       "      <td>1.130747</td>\n",
       "    </tr>\n",
       "    <tr>\n",
       "      <th>surface_terrain</th>\n",
       "      <td>0.660759</td>\n",
       "    </tr>\n",
       "    <tr>\n",
       "      <th>nombre_pieces_principales</th>\n",
       "      <td>0.313904</td>\n",
       "    </tr>\n",
       "    <tr>\n",
       "      <th>longitude</th>\n",
       "      <td>2.974281</td>\n",
       "    </tr>\n",
       "    <tr>\n",
       "      <th>latitude</th>\n",
       "      <td>6.298885</td>\n",
       "    </tr>\n",
       "    <tr>\n",
       "      <th>carreau_Ind</th>\n",
       "      <td>1.838331</td>\n",
       "    </tr>\n",
       "    <tr>\n",
       "      <th>carreau_Men</th>\n",
       "      <td>2.873693</td>\n",
       "    </tr>\n",
       "    <tr>\n",
       "      <th>carreau_Men_pauv</th>\n",
       "      <td>3.067932</td>\n",
       "    </tr>\n",
       "    <tr>\n",
       "      <th>carreau_Men_prop</th>\n",
       "      <td>1.838331</td>\n",
       "    </tr>\n",
       "    <tr>\n",
       "      <th>carreau_Ind_snv</th>\n",
       "      <td>1.283363</td>\n",
       "    </tr>\n",
       "    <tr>\n",
       "      <th>carreau_Men_surf</th>\n",
       "      <td>1.283363</td>\n",
       "    </tr>\n",
       "    <tr>\n",
       "      <th>carreau_Men_coll</th>\n",
       "      <td>3.447738</td>\n",
       "    </tr>\n",
       "    <tr>\n",
       "      <th>carreau_Men_mais</th>\n",
       "      <td>1.406497</td>\n",
       "    </tr>\n",
       "    <tr>\n",
       "      <th>carreau_Log_av45</th>\n",
       "      <td>2.318725</td>\n",
       "    </tr>\n",
       "    <tr>\n",
       "      <th>carreau_Log_45_70</th>\n",
       "      <td>2.389830</td>\n",
       "    </tr>\n",
       "    <tr>\n",
       "      <th>carreau_Log_70_90</th>\n",
       "      <td>1.585127</td>\n",
       "    </tr>\n",
       "    <tr>\n",
       "      <th>carreau_Log_ap90</th>\n",
       "      <td>2.471341</td>\n",
       "    </tr>\n",
       "    <tr>\n",
       "      <th>carreau_Log_inc</th>\n",
       "      <td>1.706526</td>\n",
       "    </tr>\n",
       "    <tr>\n",
       "      <th>carreau_Log_soc</th>\n",
       "      <td>2.771371</td>\n",
       "    </tr>\n",
       "  </tbody>\n",
       "</table>\n",
       "</div>"
      ],
      "text/plain": [
       "                           Percentage of Outliers\n",
       "Column                                           \n",
       "valeur_fonciere                          0.667696\n",
       "surface_reelle_bati                      1.130747\n",
       "surface_terrain                          0.660759\n",
       "nombre_pieces_principales                0.313904\n",
       "longitude                                2.974281\n",
       "latitude                                 6.298885\n",
       "carreau_Ind                              1.838331\n",
       "carreau_Men                              2.873693\n",
       "carreau_Men_pauv                         3.067932\n",
       "carreau_Men_prop                         1.838331\n",
       "carreau_Ind_snv                          1.283363\n",
       "carreau_Men_surf                         1.283363\n",
       "carreau_Men_coll                         3.447738\n",
       "carreau_Men_mais                         1.406497\n",
       "carreau_Log_av45                         2.318725\n",
       "carreau_Log_45_70                        2.389830\n",
       "carreau_Log_70_90                        1.585127\n",
       "carreau_Log_ap90                         2.471341\n",
       "carreau_Log_inc                          1.706526\n",
       "carreau_Log_soc                          2.771371"
      ]
     },
     "execution_count": 19,
     "metadata": {},
     "output_type": "execute_result"
    }
   ],
   "source": [
    "anl_ventes_HG_scaled_df = DfAnalysis(ventes_HG_scaled_df)\n",
    "anl_ventes_HG_scaled_df.identify_outliers()"
   ]
  }
 ],
 "metadata": {
  "kernelspec": {
   "display_name": "datascience",
   "language": "python",
   "name": "python3"
  },
  "language_info": {
   "codemirror_mode": {
    "name": "ipython",
    "version": 3
   },
   "file_extension": ".py",
   "mimetype": "text/x-python",
   "name": "python",
   "nbconvert_exporter": "python",
   "pygments_lexer": "ipython3",
   "version": "3.11.7"
  }
 },
 "nbformat": 4,
 "nbformat_minor": 2
}
