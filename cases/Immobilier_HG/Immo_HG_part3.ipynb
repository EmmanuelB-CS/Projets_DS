{
 "cells": [
  {
   "cell_type": "markdown",
   "metadata": {},
   "source": [
    "# CASE CAP GEMINI INVENT"
   ]
  },
  {
   "cell_type": "markdown",
   "metadata": {},
   "source": [
    "**Objectifs de la partie 3**\n",
    "\n",
    "L'objectif ici est simple: créer une dictionnaire de modèles de régression entraînés sur les trois datasets puis tester leurs performances respectives (les datasets seront simplement nommés: rough_ml, by_hand et by_reg qui on le rappelle ont été obtenus sans sélection des variables, par sélection à la main et par elastic net.)"
   ]
  },
  {
   "cell_type": "code",
   "execution_count": 51,
   "metadata": {},
   "outputs": [],
   "source": [
    "import pandas as pd\n",
    "import numpy as np\n",
    "\n",
    "from sklearn.metrics import r2_score\n",
    "\n",
    "from sklearn.model_selection import train_test_split, GridSearchCV\n",
    "from sklearn.base import clone\n",
    "from sklearn.linear_model import LinearRegression, ElasticNet\n",
    "from sklearn.ensemble import RandomForestRegressor\n",
    "from xgboost import XGBRegressor\n",
    "from catboost import CatBoostRegressor\n",
    "\n",
    "import warnings\n",
    "warnings.filterwarnings('ignore')"
   ]
  },
  {
   "cell_type": "code",
   "execution_count": 41,
   "metadata": {},
   "outputs": [],
   "source": [
    "rough_ml = pd.read_csv('df_ml/df_for_ml.csv')\n",
    "by_hand = pd.read_csv('df_ml/ml_selected_byhand.csv')\n",
    "by_reg = pd.read_csv('df_ml/ml_selected_byreg.csv')\n",
    "unnorm_target = pd.read_csv('df_ml/unnormalized_target.csv')\n",
    "\n",
    "df_dict = {'rough_ml':rough_ml, 'by_hand':by_hand, 'by_reg':by_reg}"
   ]
  },
  {
   "cell_type": "markdown",
   "metadata": {},
   "source": [
    "## Description des modèles:\n",
    "---\n",
    "\n",
    "### Modèles de Régression Implementés 📈\n",
    "\n",
    "#### Régression Linéaire Multiple 🧮\n",
    "- **Description**: La régression linéaire multiple est un modèle statistique qui cherche à prédire une variable dépendante à partir de plusieurs variables indépendantes, en supposant une relation linéaire entre elles.\n",
    "- **Utilisation**: Elle est idéale pour mettre en lumière des relations simples et pour servir de benchmark pour des \n",
    "modèles plus sophistiqués\n",
    "\n",
    "#### Elastic Net 🕸️\n",
    "- **Description**: Elastic Net est une méthode de régression régularisée qui combine les pénalités L1 et L2 des régularisations Lasso et Ridge. \n",
    "- **Utilisation**: Très utile lorsque plusieurs caractéristiques sont corrélées entre elles. Elastic Net peut aider à réduire le surapprentissage en introduisant ces pénalités.\n",
    "- **Avantages**: Permet une sélection de caractéristiques automatique et la régularisation. Performant lorsque le nombre de prédicteurs est très grand.\n",
    "- **Inconvénients**: Difficile de choisir ses paramètres.\n",
    "\n",
    "#### Random Forest 🌳\n",
    "- **Description**: Un modèle qui opère en construisant un grand nombre d'arbres de décision au moment de l'entraînement et en produisant la moyenne des prédictions de ces arbres pour la prédiction finale.\n",
    "- **Utilisation**: Excellent pour capturer des relations non linéaires sans nécessiter une transformation manuelle des caractéristiques.\n",
    "- **Avantages**: Réduit le risque de surapprentissage. Importances des caractéristiques facilement extractibles ce qui améliore l'\"explicabilité\" du modèle.\n",
    "- **Inconvénients**: Moins interprétable qu'un modèle de régression linéaire.\n",
    "\n",
    "#### XGBoost 🚀\n",
    "- **Description**: XGBoost (Extreme Gradient Boosting) est un algorithme d'apprentissage ensembliste qui construit de manière itérative des arbres de décision de manière à minimiser une fonction de perte.\n",
    "- **Utilisation**: Idéal pour des performances élevées et la rapidité sur des tâches de prédiction.\n",
    "- **Avantages**: Très performant, capable de gérer des données de grande dimension et des relations non linéaires.\n",
    "- **Inconvénients**: Peut être sujet au surapprentissage si les hyperparamètres ne sont pas bien choisis. Moins intuitif à comprendre et interpréter.\n",
    "\n",
    "#### CatBoost 🐱🚀\n",
    "- **Description**: CatBoost est un algorithme de boosting qui utilise des arbres de décision et est optimisé pour traiter efficacement les variables catégorielles comme l'état d'un bien immobilier etc...\n",
    "- **Utilisation**: Particulièrement efficace pour les ensembles de données avec de nombreuses caractéristiques catégorielles.\n",
    "- **Avantages**: Offre une bonne performance avec peu de paramétrage. Gère bien les données catégorielles sans prétraitement.\n",
    "- **Inconvénients**: Encore et toujours un risque non négligeable de surapprentissage, comme pour tous les algorithmes de boosting.\n",
    "\n",
    "---"
   ]
  },
  {
   "cell_type": "markdown",
   "metadata": {},
   "source": [
    "## Construction de la Grille de paramètres"
   ]
  },
  {
   "cell_type": "code",
   "execution_count": 42,
   "metadata": {},
   "outputs": [
    {
     "data": {
      "text/plain": [
       "(211288.86529576036, 133993.18394892054)"
      ]
     },
     "execution_count": 42,
     "metadata": {},
     "output_type": "execute_result"
    }
   ],
   "source": [
    "y_mean = unnorm_target['valeur_fonciere'].mean(axis=0) \n",
    "y_std = unnorm_target['valeur_fonciere'].std(axis=0)\n",
    "y_mean, y_std"
   ]
  },
  {
   "cell_type": "code",
   "execution_count": 43,
   "metadata": {},
   "outputs": [],
   "source": [
    "\n",
    "models_params = {\n",
    "    'Linear Regression': {\n",
    "        'model': LinearRegression(),\n",
    "        'params': {}\n",
    "    },\n",
    "    'Elastic Net': {\n",
    "        'model': ElasticNet(),\n",
    "        'params': {\n",
    "            'alpha': [0.1, 1, 10],\n",
    "            'l1_ratio': [0.1, 0.5, 0.9]\n",
    "        }\n",
    "    },\n",
    "    'Random Forest': {\n",
    "        'model': RandomForestRegressor(),\n",
    "        'params': {\n",
    "            'n_estimators': [10, 50, 100, 200],\n",
    "            'max_depth': [None, 2, 3, 4]\n",
    "        }\n",
    "    },\n",
    "    'XGBoost': {\n",
    "        'model': XGBRegressor(),\n",
    "        'params': {\n",
    "            'n_estimators': [10, 50, 100, 200],\n",
    "            'learning_rate': [0.01, 0.1, 0.5],\n",
    "            'max_depth': [None, 2, 3, 4],\n",
    "            'objective': ['reg:squarederror']\n",
    "        }\n",
    "    },\n",
    "    #'CatBoost': {\n",
    "    #    'model': CatBoostRegressor(verbose=0),  # verbose=0 empêche les spams\n",
    "    #    'params': {\n",
    "    #        'iterations': [10, 50, 100],\n",
    "    #        'learning_rate': [0.01, 0.1, 0.5],\n",
    "    #        'depth': [2, 3, 4],\n",
    "    #        'loss_function': ['RMSE']\n",
    "    #    }\n",
    "    #}\n",
    "}\n"
   ]
  },
  {
   "cell_type": "markdown",
   "metadata": {},
   "source": [
    "<span style=\"color:red\">**Note importante:**</span> \n",
    "\n",
    "Ici nous donnons comme métriques d'évaluation la MSE, le R2 score ainsi que le MAPE. Ce dernier peut sembler peu pertinent du fait que les étiquettes soient normalisées (et MAPE est TRES sensible au petites valeurs) ou que xgboost ne l'utilise pas dans notre exemple comme fonction de perte... Cependant nous allons tout de même calculer une version modifiée par nos soins de cette métrique pour satisfaire un double objectif: mettre en perspective la performance du modèle avec de nouvelles métriques, retourner une métrique interprétable pour le client.\n",
    "\n",
    "Expliquons en quoi nous l'avons modifiée:\n",
    "- La formule initiale \n",
    "\n",
    "`mape = np.mean(np.abs((y_pred - y_test) / y_test)) * 100`\n",
    "\n",
    "- Sa version modifiée \n",
    "\n",
    "`modified_mape = np.mean(np.abs((y_test - y_pred) * y_std / (y_test*y_std + y_mean))) * 100`\n",
    "\n",
    "Cette deuxième version multiplie l'écart de prédiction par la std réelle de y afin de rendre compte de ce que cet écart observé signifie réellement lorsque l'on considère les valeurs foncieres non normalisée (std est considérée ici comme un écart moyen de valeurs à leur moyenne) \n",
    "\n",
    "On divise par y_test*y_std + y_mean afin d'effectuer un rapport sur une variable 'dénormalisée'"
   ]
  },
  {
   "cell_type": "code",
   "execution_count": 44,
   "metadata": {},
   "outputs": [],
   "source": [
    "def best_model_selector(df_dict, target_feature, y=None):\n",
    "\n",
    "    best_models = {}\n",
    "\n",
    "    for df_name, df in df_dict.items():\n",
    "        X = df.drop(target_feature, axis=1)\n",
    "        if y is None:\n",
    "            y = df[target_feature] \n",
    "        \n",
    "        categorical_cols = X.select_dtypes(include=['object', 'category']).columns\n",
    "        categorical_features_indices = [i for i, col in enumerate(X.columns) if col in categorical_cols]\n",
    "\n",
    "        X_encoded = pd.get_dummies(X, drop_first=True)\n",
    "        X_train, X_test, y_train, y_test = train_test_split(X_encoded, y, test_size=0.2, random_state=42)\n",
    "\n",
    "        print(50*'-', 'stats for : ', df_name, 50*'-')\n",
    "\n",
    "        for name, mp in models_params.items():\n",
    "            \n",
    "            print(30*'-', name)\n",
    "\n",
    "            model = clone(mp['model']) # On s'assure que la validation croisée commencera avec un modèle non entraîné\n",
    "\n",
    "            if name == 'CatBoost':\n",
    "                X_train, X_test, _, _ = train_test_split(X, y, test_size=0.2, random_state=42)\n",
    "                model.set_params(**{'cat_features': categorical_features_indices})\n",
    "                params = mp['params']\n",
    "            else:\n",
    "                params = mp['params']\n",
    "\n",
    "            grid = GridSearchCV(model, params, cv=5, scoring='neg_mean_squared_error', n_jobs=-1)\n",
    "            grid.fit(X_train, y_train)\n",
    "            score = grid.score(X_test, y_test)\n",
    "            \n",
    "            y_pred = grid.best_estimator_.predict(X_test)\n",
    "            # Scores additionnels visant à avoir d'autres perspectives\n",
    "            r2 = r2_score(y_test, y_pred)\n",
    "            if (y != unnorm_target['valeur_fonciere']).any():\n",
    "                mape = np.mean(np.abs((y_test - y_pred) * y_std / (y_test*y_std + y_mean))) * 100\n",
    "            else:\n",
    "                mape = np.mean(np.abs((y_pred - y_test) / y_test)) * 100\n",
    "\n",
    "            print(f\"{name} MSE: {-score:.2f}\")\n",
    "            print(f\"{name} R2: {r2:.2f}\")\n",
    "            print(f\"{name} MAPE: {mape:.2f}\")\n",
    "            \n",
    "            best_models[f'{name}_{df_name}'] = {'model': grid.best_estimator_, \n",
    "                                    'score': {'mse': -score, \n",
    "                                            'r2': r2, \n",
    "                                            'mape': mape}, \n",
    "                                'df': df_name}\n",
    "    return best_models\n"
   ]
  },
  {
   "cell_type": "code",
   "execution_count": 47,
   "metadata": {},
   "outputs": [
    {
     "name": "stdout",
     "output_type": "stream",
     "text": [
      "-------------------------------------------------- stats for :  rough_ml --------------------------------------------------\n",
      "------------------------------ Linear Regression\n",
      "Linear Regression MSE: 273826880774065061888.00\n",
      "Linear Regression R2: -262964839779657318400.00\n",
      "Linear Regression MAPE: 311597388433.63\n",
      "------------------------------ Elastic Net\n",
      "Elastic Net MSE: 0.20\n",
      "Elastic Net R2: 0.81\n",
      "Elastic Net MAPE: 21.26\n",
      "------------------------------ Random Forest\n",
      "Random Forest MSE: 0.16\n",
      "Random Forest R2: 0.85\n",
      "Random Forest MAPE: 16.86\n",
      "------------------------------ XGBoost\n",
      "XGBoost MSE: 0.16\n",
      "XGBoost R2: 0.84\n",
      "XGBoost MAPE: 18.06\n",
      "-------------------------------------------------- stats for :  by_hand --------------------------------------------------\n",
      "------------------------------ Linear Regression\n",
      "Linear Regression MSE: 0.18\n",
      "Linear Regression R2: 0.83\n",
      "Linear Regression MAPE: 21.64\n",
      "------------------------------ Elastic Net\n",
      "Elastic Net MSE: 0.20\n",
      "Elastic Net R2: 0.80\n",
      "Elastic Net MAPE: 21.28\n",
      "------------------------------ Random Forest\n",
      "Random Forest MSE: 0.16\n",
      "Random Forest R2: 0.85\n",
      "Random Forest MAPE: 16.87\n",
      "------------------------------ XGBoost\n",
      "XGBoost MSE: 0.16\n",
      "XGBoost R2: 0.85\n",
      "XGBoost MAPE: 17.61\n",
      "-------------------------------------------------- stats for :  by_reg --------------------------------------------------\n",
      "------------------------------ Linear Regression\n",
      "Linear Regression MSE: 0.18\n",
      "Linear Regression R2: 0.83\n",
      "Linear Regression MAPE: 21.47\n",
      "------------------------------ Elastic Net\n",
      "Elastic Net MSE: 0.20\n",
      "Elastic Net R2: 0.81\n",
      "Elastic Net MAPE: 21.29\n",
      "------------------------------ Random Forest\n",
      "Random Forest MSE: 0.15\n",
      "Random Forest R2: 0.85\n",
      "Random Forest MAPE: 16.83\n",
      "------------------------------ XGBoost\n",
      "XGBoost MSE: 0.16\n",
      "XGBoost R2: 0.85\n",
      "XGBoost MAPE: 17.66\n"
     ]
    }
   ],
   "source": [
    "best_models = best_model_selector(df_dict=df_dict, target_feature='valeur_fonciere');"
   ]
  },
  {
   "cell_type": "markdown",
   "metadata": {},
   "source": [
    "Et là, nous sommes très déçus. Pourquoi? Parce que comme vu précédemment sur les variables sélectionnées, la valeur foncière dépend surtout de la surface du bâti, c'est même la feature jugée la plus importante par notre premier modèle catboost, ainsi que le prix moyen des voisins qui semble avoir une corrélation linéaire avec la valeur foncière... Ainsi nos modèles de boosting fonctionnent (sur les variables sélectionnées) pas bien mieux (du point de vue de la MSE) qu'une simple régression linéaire."
   ]
  },
  {
   "cell_type": "markdown",
   "metadata": {},
   "source": [
    "<span style=\"color:red\">**Note importante:**</span> \n",
    "\n",
    "Nous préférons ici prédire des étiquettes normalisées étant donnée leur dispersions et la plage très étendue de valeurs qu'elles peuvent prendre. Par ailleurs, l'elastic net ne converge pas si l'on ne normalise pas les étiquettes. Cela ne nous empêche d'ailleurs pas de reconstruire a posteriori les prédictions originales en les multipliant par y_std et en leur ajoutant y_mean. "
   ]
  },
  {
   "cell_type": "markdown",
   "metadata": {},
   "source": [
    "## Quelles variables pour la prédiction? "
   ]
  },
  {
   "cell_type": "code",
   "execution_count": 52,
   "metadata": {},
   "outputs": [
    {
     "name": "stdout",
     "output_type": "stream",
     "text": [
      "Feature Importance:\n",
      "                      Feature  Importance\n",
      "0         surface_reelle_bati    0.447676\n",
      "16           evaluation_agent    0.108780\n",
      "13         prix_moyen_voisins    0.103443\n",
      "1             surface_terrain    0.076925\n",
      "12       distance_toulouse_km    0.060463\n",
      "3                   longitude    0.058377\n",
      "4                    latitude    0.035554\n",
      "15                      agent    0.019837\n",
      "8            carreau_Log_av45    0.016912\n",
      "5             carreau_Ind_snv    0.013923\n",
      "9           carreau_Log_45_70    0.010336\n",
      "11             distance_cv_km    0.009882\n",
      "10                      MED16    0.008913\n",
      "14                 type_local    0.008781\n",
      "2   nombre_pieces_principales    0.007952\n",
      "6            carreau_Men_surf    0.006408\n",
      "7            carreau_Men_coll    0.005839\n"
     ]
    }
   ],
   "source": [
    "feature_importances_best_model = best_models['XGBoost_by_hand']['model'].feature_importances_\n",
    "\n",
    "importance_df = pd.DataFrame({'Feature': by_hand.drop('valeur_fonciere', axis=1).columns, 'Importance': feature_importances_best_model})\n",
    "importance_df = importance_df.sort_values(by='Importance', ascending=False)\n",
    "\n",
    "print(\"Feature Importance:\")\n",
    "print(importance_df)"
   ]
  },
  {
   "cell_type": "code",
   "execution_count": 53,
   "metadata": {},
   "outputs": [
    {
     "data": {
      "image/png": "[encoded data removed]",
      "text/plain": [
       "<Figure size 640x480 with 1 Axes>"
      ]
     },
     "metadata": {},
     "output_type": "display_data"
    }
   ],
   "source": [
    "import seaborn as sns\n",
    "import matplotlib.pyplot as plt\n",
    "\n",
    "X = by_hand.drop('valeur_fonciere', axis=1)\n",
    "y = by_hand['valeur_fonciere']\n",
    "X_encoded =  pd.get_dummies(X, drop_first=True)\n",
    "\n",
    "_, X_test, _, y_test = train_test_split(X_encoded, y, test_size=0.2, random_state=42)\n",
    "y_pred = best_models['XGBoost_by_hand']['model'].predict(X_test)\n",
    "\n",
    "sns.histplot((y_pred - y_test), kde=True)\n",
    "plt.xlabel('Erreur valeur foncière')\n",
    "plt.show();"
   ]
  },
  {
   "cell_type": "markdown",
   "metadata": {},
   "source": [
    "## Conclusion"
   ]
  },
  {
   "cell_type": "markdown",
   "metadata": {},
   "source": [
    "On le voit dans le dataframe ci-dessus la variable ayant le pouvoir de prédiction le plus fort n'est autre que la surface réelle du bâti, cependant l'appréciation des agents immobiliers est aussi essentielle (10% du pouvoir de prédiction), soit autant que les prix moyens des biens voisins. Ce modèle concilie donc efficacement une approche métier promue par l'agence et des techniques nouvelles de machine learning. \n",
    "\n",
    "On le voit également, ce modèle présente une mean square error de 0.16, un R2 score de 0.85 soit de bonnes performances pour un modèle de régression. La distribution des erreur est symétrique, on pourrait par exemple ajouter un biais afin de n'obtenir que des prédictions positives."
   ]
  },
  {
   "cell_type": "markdown",
   "metadata": {},
   "source": [
    "**Supplément: tester la validité de nos métriques**"
   ]
  },
  {
   "cell_type": "code",
   "execution_count": 58,
   "metadata": {},
   "outputs": [
    {
     "name": "stdout",
     "output_type": "stream",
     "text": [
      "Modified MAPE: 30.00%\n"
     ]
    }
   ],
   "source": [
    "import numpy as np\n",
    "from sklearn.model_selection import train_test_split\n",
    "from sklearn.preprocessing import StandardScaler\n",
    "\n",
    "np.random.seed(0)\n",
    "\n",
    "mu, sigma = 2, 0.4\n",
    "y = np.random.lognormal(mu, sigma, 1000)\n",
    "\n",
    "scaler = StandardScaler()\n",
    "y_scaled = scaler.fit_transform(y.reshape(-1, 1)).flatten() \n",
    "\n",
    "y_train, y_test = train_test_split(y_scaled, test_size=0.2, random_state=42)\n",
    "\n",
    "y_pred = y_test * 0.7\n",
    "\n",
    "y_mean = np.mean(y_scaled)\n",
    "y_std = np.std(y_scaled)\n",
    "\n",
    "modified_mape = np.mean(np.abs((y_test - y_pred) * y_std / (y_test*y_std + y_mean))) * 100\n",
    "\n",
    "print(f\"Modified MAPE: {modified_mape:.2f}%\")\n"
   ]
  },
  {
   "cell_type": "markdown",
   "metadata": {},
   "source": [
    "La distribution de y dans notre exemple:"
   ]
  },
  {
   "cell_type": "code",
   "execution_count": 64,
   "metadata": {},
   "outputs": [
    {
     "data": {
      "image/png": "[encoded data removed]",
      "text/plain": [
       "<Figure size 640x480 with 1 Axes>"
      ]
     },
     "metadata": {},
     "output_type": "display_data"
    }
   ],
   "source": [
    "sns.histplot(y, bins=100, kde=True, alpha=0.7)\n",
    "plt.xlabel('Valeurs de y')\n",
    "plt.show();"
   ]
  },
  {
   "cell_type": "markdown",
   "metadata": {},
   "source": [
    "Le MAPE modifié semble faire bon effet même s'il surestime un peu les écarts (ce qui n'est pas si mal)! "
   ]
  }
 ],
 "metadata": {
  "kernelspec": {
   "display_name": "datascience",
   "language": "python",
   "name": "python3"
  },
  "language_info": {
   "codemirror_mode": {
    "name": "ipython",
    "version": 3
   },
   "file_extension": ".py",
   "mimetype": "text/x-python",
   "name": "python",
   "nbconvert_exporter": "python",
   "pygments_lexer": "ipython3",
   "version": "3.11.7"
  }
 },
 "nbformat": 4,
 "nbformat_minor": 2
}
